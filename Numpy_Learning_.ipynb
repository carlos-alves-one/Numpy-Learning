{
  "nbformat": 4,
  "nbformat_minor": 0,
  "metadata": {
    "colab": {
      "name": " Numpy-Learning .ipynb",
      "provenance": [],
      "collapsed_sections": [],
      "authorship_tag": "ABX9TyNKUHpdFFCrg9VTF0tLFm0L",
      "include_colab_link": true
    },
    "kernelspec": {
      "name": "python3",
      "display_name": "Python 3"
    },
    "language_info": {
      "name": "python"
    }
  },
  "cells": [
    {
      "cell_type": "markdown",
      "metadata": {
        "id": "view-in-github",
        "colab_type": "text"
      },
      "source": [
        "<a href=\"https://colab.research.google.com/github/carlos-alves-one/Numpy-Learning/blob/main/Numpy_Learning_.ipynb\" target=\"_parent\"><img src=\"https://colab.research.google.com/assets/colab-badge.svg\" alt=\"Open In Colab\"/></a>"
      ]
    },
    {
      "cell_type": "markdown",
      "source": [
        "## Goldsmiths University of London\n",
        "**Author....: Carlos Manuel de Oliveira Alves**<br>\n",
        "**Student..: cdeol003**<br>\n",
        "**Created..: 23/08/2022**"
      ],
      "metadata": {
        "id": "oaiU4WH33DGX"
      }
    },
    {
      "cell_type": "code",
      "execution_count": 183,
      "metadata": {
        "id": "ZZ9acF2_29T0"
      },
      "outputs": [],
      "source": [
        "# import numpy library for linear algebra\n",
        "import numpy as np"
      ]
    },
    {
      "cell_type": "code",
      "source": [
        "# create an array with function zeros\n",
        "np.zeros(10)"
      ],
      "metadata": {
        "colab": {
          "base_uri": "https://localhost:8080/"
        },
        "id": "6Y-zlvmv4mpQ",
        "outputId": "eb8fc775-ddc1-4012-c7c7-c15cd9aef561"
      },
      "execution_count": 184,
      "outputs": [
        {
          "output_type": "execute_result",
          "data": {
            "text/plain": [
              "array([0., 0., 0., 0., 0., 0., 0., 0., 0., 0.])"
            ]
          },
          "metadata": {},
          "execution_count": 184
        }
      ]
    },
    {
      "cell_type": "code",
      "source": [
        "# create an array with function ones\n",
        "np.ones(10)"
      ],
      "metadata": {
        "colab": {
          "base_uri": "https://localhost:8080/"
        },
        "id": "3VDzyP1G43yc",
        "outputId": "7adace8a-13c0-4601-ac48-2a0ebc595980"
      },
      "execution_count": 185,
      "outputs": [
        {
          "output_type": "execute_result",
          "data": {
            "text/plain": [
              "array([1., 1., 1., 1., 1., 1., 1., 1., 1., 1.])"
            ]
          },
          "metadata": {},
          "execution_count": 185
        }
      ]
    },
    {
      "cell_type": "code",
      "source": [
        "# create an array with function full\n",
        "np.full(10, 2.5)"
      ],
      "metadata": {
        "colab": {
          "base_uri": "https://localhost:8080/"
        },
        "id": "YWWjnftv5Oz2",
        "outputId": "bd65bffb-7b01-4a3f-c1a3-5160c8a4bedd"
      },
      "execution_count": 186,
      "outputs": [
        {
          "output_type": "execute_result",
          "data": {
            "text/plain": [
              "array([2.5, 2.5, 2.5, 2.5, 2.5, 2.5, 2.5, 2.5, 2.5, 2.5])"
            ]
          },
          "metadata": {},
          "execution_count": 186
        }
      ]
    },
    {
      "cell_type": "code",
      "source": [
        "# create an array with a list with numbers\n",
        "a = np.array([1,2,3,5,7,12])\n",
        "a"
      ],
      "metadata": {
        "colab": {
          "base_uri": "https://localhost:8080/"
        },
        "id": "zGWeYmek5lu8",
        "outputId": "93699b1a-4081-47b5-a4ee-907d4931ac28"
      },
      "execution_count": 187,
      "outputs": [
        {
          "output_type": "execute_result",
          "data": {
            "text/plain": [
              "array([ 1,  2,  3,  5,  7, 12])"
            ]
          },
          "metadata": {},
          "execution_count": 187
        }
      ]
    },
    {
      "cell_type": "code",
      "source": [
        "# access a specific element in the array\n",
        "a[2]"
      ],
      "metadata": {
        "colab": {
          "base_uri": "https://localhost:8080/"
        },
        "id": "y9ShPYYg6RrH",
        "outputId": "5658ae81-2c77-4618-ea6f-eebe25677a7f"
      },
      "execution_count": 188,
      "outputs": [
        {
          "output_type": "execute_result",
          "data": {
            "text/plain": [
              "3"
            ]
          },
          "metadata": {},
          "execution_count": 188
        }
      ]
    },
    {
      "cell_type": "code",
      "source": [
        "# replace the value of a specific element in the array\n",
        "a[2] = 10\n",
        "a"
      ],
      "metadata": {
        "colab": {
          "base_uri": "https://localhost:8080/"
        },
        "id": "r86WeKgm6wkJ",
        "outputId": "e9f4cc3b-afc8-4187-909f-b80356480e0d"
      },
      "execution_count": 189,
      "outputs": [
        {
          "output_type": "execute_result",
          "data": {
            "text/plain": [
              "array([ 1,  2, 10,  5,  7, 12])"
            ]
          },
          "metadata": {},
          "execution_count": 189
        }
      ]
    },
    {
      "cell_type": "code",
      "source": [
        "# create an array using the function range\n",
        "np.arange(10)"
      ],
      "metadata": {
        "colab": {
          "base_uri": "https://localhost:8080/"
        },
        "id": "QTL_GeZB8cWB",
        "outputId": "287cc325-8e0e-4d17-c8e0-aa6a6809e701"
      },
      "execution_count": 190,
      "outputs": [
        {
          "output_type": "execute_result",
          "data": {
            "text/plain": [
              "array([0, 1, 2, 3, 4, 5, 6, 7, 8, 9])"
            ]
          },
          "metadata": {},
          "execution_count": 190
        }
      ]
    },
    {
      "cell_type": "code",
      "source": [
        "# create an array using the function range but start at a specific number\n",
        "np.arange(3, 10)"
      ],
      "metadata": {
        "colab": {
          "base_uri": "https://localhost:8080/"
        },
        "id": "D65o1tWG9OZJ",
        "outputId": "30a098be-11f4-40f8-f66c-1a6ec77a5fb7"
      },
      "execution_count": 191,
      "outputs": [
        {
          "output_type": "execute_result",
          "data": {
            "text/plain": [
              "array([3, 4, 5, 6, 7, 8, 9])"
            ]
          },
          "metadata": {},
          "execution_count": 191
        }
      ]
    },
    {
      "cell_type": "code",
      "source": [
        "# create an array using the function linspace\n",
        "# create an array with 11 elements and with numbers between 0 and 1\n",
        "np.linspace(0, 1, 11)"
      ],
      "metadata": {
        "colab": {
          "base_uri": "https://localhost:8080/"
        },
        "id": "gUAT7pdS9pnq",
        "outputId": "63e505e6-b7be-4dc4-8e94-ed04ea9a8b61"
      },
      "execution_count": 192,
      "outputs": [
        {
          "output_type": "execute_result",
          "data": {
            "text/plain": [
              "array([0. , 0.1, 0.2, 0.3, 0.4, 0.5, 0.6, 0.7, 0.8, 0.9, 1. ])"
            ]
          },
          "metadata": {},
          "execution_count": 192
        }
      ]
    },
    {
      "cell_type": "code",
      "source": [
        "# create a multi-dimensional array\n",
        "# an array with 5 rows and 2 columns\n",
        "np.zeros((5,2))"
      ],
      "metadata": {
        "colab": {
          "base_uri": "https://localhost:8080/"
        },
        "id": "lmz00GbK-b9P",
        "outputId": "0af768b9-ac6b-40d8-8d6c-16295948496a"
      },
      "execution_count": 193,
      "outputs": [
        {
          "output_type": "execute_result",
          "data": {
            "text/plain": [
              "array([[0., 0.],\n",
              "       [0., 0.],\n",
              "       [0., 0.],\n",
              "       [0., 0.],\n",
              "       [0., 0.]])"
            ]
          },
          "metadata": {},
          "execution_count": 193
        }
      ]
    },
    {
      "cell_type": "code",
      "source": [
        "# create a multi-dimensional array with a list of numbers\n",
        "n = np.array([\n",
        "    [1,2,3],\n",
        "    [4,5,6],\n",
        "    [7,8,9]\n",
        "])\n",
        "n"
      ],
      "metadata": {
        "colab": {
          "base_uri": "https://localhost:8080/"
        },
        "id": "5a-eydrT_XfB",
        "outputId": "d7d20df4-8e43-4800-c857-39fa1cd9ae48"
      },
      "execution_count": 194,
      "outputs": [
        {
          "output_type": "execute_result",
          "data": {
            "text/plain": [
              "array([[1, 2, 3],\n",
              "       [4, 5, 6],\n",
              "       [7, 8, 9]])"
            ]
          },
          "metadata": {},
          "execution_count": 194
        }
      ]
    },
    {
      "cell_type": "code",
      "source": [
        "# access to an element in a multi-dimensional array\n",
        "n[0, 1]"
      ],
      "metadata": {
        "colab": {
          "base_uri": "https://localhost:8080/"
        },
        "id": "CQ-NV7LJAHCy",
        "outputId": "43cdba5f-299e-4a4c-9920-16c978b40612"
      },
      "execution_count": 195,
      "outputs": [
        {
          "output_type": "execute_result",
          "data": {
            "text/plain": [
              "2"
            ]
          },
          "metadata": {},
          "execution_count": 195
        }
      ]
    },
    {
      "cell_type": "code",
      "source": [
        "# replace the value of a specific element in a multi-dimensional array\n",
        "n[ 0, 1] = 20\n",
        "n"
      ],
      "metadata": {
        "colab": {
          "base_uri": "https://localhost:8080/"
        },
        "id": "L-fQW2D-BEHN",
        "outputId": "b24e0d29-ad5e-49d9-fcf7-a52ab254948d"
      },
      "execution_count": 196,
      "outputs": [
        {
          "output_type": "execute_result",
          "data": {
            "text/plain": [
              "array([[ 1, 20,  3],\n",
              "       [ 4,  5,  6],\n",
              "       [ 7,  8,  9]])"
            ]
          },
          "metadata": {},
          "execution_count": 196
        }
      ]
    },
    {
      "cell_type": "code",
      "source": [
        "# access the row of a multi-dimensional array\n",
        "n[0]"
      ],
      "metadata": {
        "colab": {
          "base_uri": "https://localhost:8080/"
        },
        "id": "JWb7ajy4B39a",
        "outputId": "9ede121f-e443-489a-8d71-18edbe6e879d"
      },
      "execution_count": 197,
      "outputs": [
        {
          "output_type": "execute_result",
          "data": {
            "text/plain": [
              "array([ 1, 20,  3])"
            ]
          },
          "metadata": {},
          "execution_count": 197
        }
      ]
    },
    {
      "cell_type": "code",
      "source": [
        "# rewrite the entire row of a multi-dimensional array\n",
        "n[2] = [1,1,1]\n",
        "n"
      ],
      "metadata": {
        "colab": {
          "base_uri": "https://localhost:8080/"
        },
        "id": "4O1NMAUOCSv1",
        "outputId": "e08ffa38-dd1a-4f92-e799-ecba2040b0e6"
      },
      "execution_count": 198,
      "outputs": [
        {
          "output_type": "execute_result",
          "data": {
            "text/plain": [
              "array([[ 1, 20,  3],\n",
              "       [ 4,  5,  6],\n",
              "       [ 1,  1,  1]])"
            ]
          },
          "metadata": {},
          "execution_count": 198
        }
      ]
    },
    {
      "cell_type": "code",
      "source": [
        "# access a specific column in a multi-dimensional array\n",
        "n[:, 1] # to access the second column"
      ],
      "metadata": {
        "colab": {
          "base_uri": "https://localhost:8080/"
        },
        "id": "xftde14bTLun",
        "outputId": "4b982cd3-c6fa-439d-db80-3b474212096d"
      },
      "execution_count": 199,
      "outputs": [
        {
          "output_type": "execute_result",
          "data": {
            "text/plain": [
              "array([20,  5,  1])"
            ]
          },
          "metadata": {},
          "execution_count": 199
        }
      ]
    },
    {
      "cell_type": "code",
      "source": [
        "# return all the rows of the multi-dimensionl array\n",
        "n[:]"
      ],
      "metadata": {
        "colab": {
          "base_uri": "https://localhost:8080/"
        },
        "id": "iqlKKrHDYTPn",
        "outputId": "1601f88b-a86d-4f9b-e28e-11718dfd66f7"
      },
      "execution_count": 200,
      "outputs": [
        {
          "output_type": "execute_result",
          "data": {
            "text/plain": [
              "array([[ 1, 20,  3],\n",
              "       [ 4,  5,  6],\n",
              "       [ 1,  1,  1]])"
            ]
          },
          "metadata": {},
          "execution_count": 200
        }
      ]
    },
    {
      "cell_type": "code",
      "source": [
        "# assign new values to a specific columns in multi-dimensionl array\n",
        "n[:, 2] = [0, 1, 2]\n",
        "n"
      ],
      "metadata": {
        "colab": {
          "base_uri": "https://localhost:8080/"
        },
        "id": "DokPdrLZYvEB",
        "outputId": "37d453b7-d1ec-4164-b8b1-7d434dc0d744"
      },
      "execution_count": 201,
      "outputs": [
        {
          "output_type": "execute_result",
          "data": {
            "text/plain": [
              "array([[ 1, 20,  0],\n",
              "       [ 4,  5,  1],\n",
              "       [ 1,  1,  2]])"
            ]
          },
          "metadata": {},
          "execution_count": 201
        }
      ]
    },
    {
      "cell_type": "code",
      "source": [
        "# generate randomly two dimensional array\n",
        "# the numbers are random between zero and one\n",
        "# using the seed function to generate the same random numbers\n",
        "np.random.seed(2)\n",
        "np.random.rand(5, 2) # 5 rows and 2 columns"
      ],
      "metadata": {
        "colab": {
          "base_uri": "https://localhost:8080/"
        },
        "id": "eOKwDZqaZPYG",
        "outputId": "8deb63f1-4fd8-4bb7-d310-91250239859a"
      },
      "execution_count": 202,
      "outputs": [
        {
          "output_type": "execute_result",
          "data": {
            "text/plain": [
              "array([[0.4359949 , 0.02592623],\n",
              "       [0.54966248, 0.43532239],\n",
              "       [0.4203678 , 0.33033482],\n",
              "       [0.20464863, 0.61927097],\n",
              "       [0.29965467, 0.26682728]])"
            ]
          },
          "metadata": {},
          "execution_count": 202
        }
      ]
    },
    {
      "cell_type": "code",
      "source": [
        "# use the standard normal distribution\n",
        "np.random.seed(2)\n",
        "np.random.randn(5, 2)"
      ],
      "metadata": {
        "colab": {
          "base_uri": "https://localhost:8080/"
        },
        "id": "yTPLep5eaFZV",
        "outputId": "018efa4b-e308-4891-d5d9-5b49b56d2d73"
      },
      "execution_count": 203,
      "outputs": [
        {
          "output_type": "execute_result",
          "data": {
            "text/plain": [
              "array([[-0.41675785, -0.05626683],\n",
              "       [-2.1361961 ,  1.64027081],\n",
              "       [-1.79343559, -0.84174737],\n",
              "       [ 0.50288142, -1.24528809],\n",
              "       [-1.05795222, -0.90900761]])"
            ]
          },
          "metadata": {},
          "execution_count": 203
        }
      ]
    },
    {
      "cell_type": "code",
      "source": [
        "# generate random numbers between 0 and 100\n",
        "np.random.seed(2)\n",
        "100 * np.random.rand(5, 2)"
      ],
      "metadata": {
        "colab": {
          "base_uri": "https://localhost:8080/"
        },
        "id": "twhWpIh2dA99",
        "outputId": "df61af7f-0db0-40e9-c652-76c1156a0c94"
      },
      "execution_count": 204,
      "outputs": [
        {
          "output_type": "execute_result",
          "data": {
            "text/plain": [
              "array([[43.59949021,  2.59262318],\n",
              "       [54.96624779, 43.53223926],\n",
              "       [42.03678021, 33.0334821 ],\n",
              "       [20.4648634 , 61.92709664],\n",
              "       [29.96546737, 26.68272751]])"
            ]
          },
          "metadata": {},
          "execution_count": 204
        }
      ]
    },
    {
      "cell_type": "code",
      "source": [
        "# generate random integers between 0 and 99\n",
        "np.random.seed(2)\n",
        "np.random.randint(low=0, high=100, size=(5,2))"
      ],
      "metadata": {
        "colab": {
          "base_uri": "https://localhost:8080/"
        },
        "id": "fA-wIC1-dnUN",
        "outputId": "a6a14c07-dc50-40bb-cb17-11db856fd9ec"
      },
      "execution_count": 205,
      "outputs": [
        {
          "output_type": "execute_result",
          "data": {
            "text/plain": [
              "array([[40, 15],\n",
              "       [72, 22],\n",
              "       [43, 82],\n",
              "       [75,  7],\n",
              "       [34, 49]])"
            ]
          },
          "metadata": {},
          "execution_count": 205
        }
      ]
    },
    {
      "cell_type": "markdown",
      "source": [
        "**Element-Wise Operations**"
      ],
      "metadata": {
        "id": "D-tCPIYPv_6e"
      }
    },
    {
      "cell_type": "code",
      "source": [
        "# create an array using the arange function\n",
        "a = np.arange(5)\n",
        "a"
      ],
      "metadata": {
        "id": "yI4-LONMwPg6",
        "colab": {
          "base_uri": "https://localhost:8080/"
        },
        "outputId": "011e3987-3b04-445a-ab17-d40086d32acd"
      },
      "execution_count": 206,
      "outputs": [
        {
          "output_type": "execute_result",
          "data": {
            "text/plain": [
              "array([0, 1, 2, 3, 4])"
            ]
          },
          "metadata": {},
          "execution_count": 206
        }
      ]
    },
    {
      "cell_type": "code",
      "source": [
        "# use element-wise operations addition with array\n",
        "a + 1"
      ],
      "metadata": {
        "colab": {
          "base_uri": "https://localhost:8080/"
        },
        "id": "eHKTwlHdUIgD",
        "outputId": "c6f98bdb-955f-4cdc-c1a2-4cae5b70e429"
      },
      "execution_count": 207,
      "outputs": [
        {
          "output_type": "execute_result",
          "data": {
            "text/plain": [
              "array([1, 2, 3, 4, 5])"
            ]
          },
          "metadata": {},
          "execution_count": 207
        }
      ]
    },
    {
      "cell_type": "code",
      "source": [
        "# use element-wise operations multiplication with array\n",
        "a * 2"
      ],
      "metadata": {
        "colab": {
          "base_uri": "https://localhost:8080/"
        },
        "id": "dn8jNCEsUpXb",
        "outputId": "83bb264b-25ae-4022-e8a7-6a36bfd14aa9"
      },
      "execution_count": 208,
      "outputs": [
        {
          "output_type": "execute_result",
          "data": {
            "text/plain": [
              "array([0, 2, 4, 6, 8])"
            ]
          },
          "metadata": {},
          "execution_count": 208
        }
      ]
    },
    {
      "cell_type": "code",
      "source": [
        "# more complex element-wise operations\n",
        "b = (10 + (a *2)) ** 2 / 100\n",
        "b"
      ],
      "metadata": {
        "colab": {
          "base_uri": "https://localhost:8080/"
        },
        "id": "NlsPiuC_VDv_",
        "outputId": "b25f58ca-53a4-4246-db16-06ef772f6bee"
      },
      "execution_count": 209,
      "outputs": [
        {
          "output_type": "execute_result",
          "data": {
            "text/plain": [
              "array([1.  , 1.44, 1.96, 2.56, 3.24])"
            ]
          },
          "metadata": {},
          "execution_count": 209
        }
      ]
    },
    {
      "cell_type": "code",
      "source": [
        "# combine two arrays\n",
        "a + b"
      ],
      "metadata": {
        "colab": {
          "base_uri": "https://localhost:8080/"
        },
        "id": "4UuXRsV8VbKB",
        "outputId": "a8226fa1-067e-4374-f759-9897248b6fb6"
      },
      "execution_count": 210,
      "outputs": [
        {
          "output_type": "execute_result",
          "data": {
            "text/plain": [
              "array([1.  , 2.44, 3.96, 5.56, 7.24])"
            ]
          },
          "metadata": {},
          "execution_count": 210
        }
      ]
    },
    {
      "cell_type": "code",
      "source": [
        "# combine two arrays more complex\n",
        "a / b + 10"
      ],
      "metadata": {
        "colab": {
          "base_uri": "https://localhost:8080/"
        },
        "id": "SKjrMp5FV8mA",
        "outputId": "32cd68f0-c930-472f-c437-00d5541f5180"
      },
      "execution_count": 211,
      "outputs": [
        {
          "output_type": "execute_result",
          "data": {
            "text/plain": [
              "array([10.        , 10.69444444, 11.02040816, 11.171875  , 11.2345679 ])"
            ]
          },
          "metadata": {},
          "execution_count": 211
        }
      ]
    },
    {
      "cell_type": "markdown",
      "source": [
        "**Comparison Operations**"
      ],
      "metadata": {
        "id": "K5_hWCeTWsKp"
      }
    },
    {
      "cell_type": "code",
      "source": [
        " a"
      ],
      "metadata": {
        "colab": {
          "base_uri": "https://localhost:8080/"
        },
        "id": "7uJ5zFI2WvqW",
        "outputId": "4aef89ca-58e9-4432-b69d-d2a685f9f646"
      },
      "execution_count": 212,
      "outputs": [
        {
          "output_type": "execute_result",
          "data": {
            "text/plain": [
              "array([0, 1, 2, 3, 4])"
            ]
          },
          "metadata": {},
          "execution_count": 212
        }
      ]
    },
    {
      "cell_type": "code",
      "source": [
        "a >= 2"
      ],
      "metadata": {
        "colab": {
          "base_uri": "https://localhost:8080/"
        },
        "id": "rHR6Wn1iW2O-",
        "outputId": "81877701-49fc-4c4a-a190-6c49aa15b8ce"
      },
      "execution_count": 213,
      "outputs": [
        {
          "output_type": "execute_result",
          "data": {
            "text/plain": [
              "array([False, False,  True,  True,  True])"
            ]
          },
          "metadata": {},
          "execution_count": 213
        }
      ]
    },
    {
      "cell_type": "code",
      "source": [
        "a > b"
      ],
      "metadata": {
        "colab": {
          "base_uri": "https://localhost:8080/"
        },
        "id": "Tf0gJ2HpW40t",
        "outputId": "18d77a74-545d-4d2a-fe13-6e11f36a4cf5"
      },
      "execution_count": 214,
      "outputs": [
        {
          "output_type": "execute_result",
          "data": {
            "text/plain": [
              "array([False, False,  True,  True,  True])"
            ]
          },
          "metadata": {},
          "execution_count": 214
        }
      ]
    },
    {
      "cell_type": "code",
      "source": [
        "# create an array with elements for which the condition is true\n",
        "a[a > b]"
      ],
      "metadata": {
        "colab": {
          "base_uri": "https://localhost:8080/"
        },
        "id": "XW8r0vVlX3dp",
        "outputId": "d9fb2f6d-2e63-45cf-92e2-cc984d185f42"
      },
      "execution_count": 215,
      "outputs": [
        {
          "output_type": "execute_result",
          "data": {
            "text/plain": [
              "array([2, 3, 4])"
            ]
          },
          "metadata": {},
          "execution_count": 215
        }
      ]
    },
    {
      "cell_type": "markdown",
      "source": [
        "**Summarizing Operations**"
      ],
      "metadata": {
        "id": "dP4C6WAOZzqE"
      }
    },
    {
      "cell_type": "code",
      "source": [
        "a"
      ],
      "metadata": {
        "colab": {
          "base_uri": "https://localhost:8080/"
        },
        "id": "K4aHLXjjZ5dQ",
        "outputId": "0466ae81-7c7e-4a69-e8c5-0fb47208e360"
      },
      "execution_count": 216,
      "outputs": [
        {
          "output_type": "execute_result",
          "data": {
            "text/plain": [
              "array([0, 1, 2, 3, 4])"
            ]
          },
          "metadata": {},
          "execution_count": 216
        }
      ]
    },
    {
      "cell_type": "code",
      "source": [
        "# use the function min that return the smallest number in the array\n",
        "a.min()"
      ],
      "metadata": {
        "colab": {
          "base_uri": "https://localhost:8080/"
        },
        "id": "G42HfhyBZ9e0",
        "outputId": "a35c06df-7a8e-450d-e05e-1b7866cc8252"
      },
      "execution_count": 217,
      "outputs": [
        {
          "output_type": "execute_result",
          "data": {
            "text/plain": [
              "0"
            ]
          },
          "metadata": {},
          "execution_count": 217
        }
      ]
    },
    {
      "cell_type": "code",
      "source": [
        "# use the function max that return the maximal number in the array\n",
        "a.max()"
      ],
      "metadata": {
        "colab": {
          "base_uri": "https://localhost:8080/"
        },
        "id": "dXboZFYAaN7u",
        "outputId": "38743453-749e-4177-d26c-9be2c3724cf3"
      },
      "execution_count": 218,
      "outputs": [
        {
          "output_type": "execute_result",
          "data": {
            "text/plain": [
              "4"
            ]
          },
          "metadata": {},
          "execution_count": 218
        }
      ]
    },
    {
      "cell_type": "code",
      "source": [
        "# use the function sum that computes the sum of all elements in the array\n",
        "a.sum()"
      ],
      "metadata": {
        "colab": {
          "base_uri": "https://localhost:8080/"
        },
        "id": "5-kpErztaigA",
        "outputId": "4dcb433e-a363-4fbc-a09c-073bf277f5b7"
      },
      "execution_count": 219,
      "outputs": [
        {
          "output_type": "execute_result",
          "data": {
            "text/plain": [
              "10"
            ]
          },
          "metadata": {},
          "execution_count": 219
        }
      ]
    },
    {
      "cell_type": "code",
      "source": [
        "# use the function mean that conmputes the average number in tbe array\n",
        "a.mean()"
      ],
      "metadata": {
        "colab": {
          "base_uri": "https://localhost:8080/"
        },
        "id": "LoWCUrYaa5vG",
        "outputId": "d13ea5bd-15dd-48d6-f0dd-4c2cc9334628"
      },
      "execution_count": 220,
      "outputs": [
        {
          "output_type": "execute_result",
          "data": {
            "text/plain": [
              "2.0"
            ]
          },
          "metadata": {},
          "execution_count": 220
        }
      ]
    },
    {
      "cell_type": "code",
      "source": [
        "# use the standard deviation function\n",
        "a.std()"
      ],
      "metadata": {
        "colab": {
          "base_uri": "https://localhost:8080/"
        },
        "id": "W4evy3SZbQzL",
        "outputId": "3c58a9dc-eb68-43d9-9c22-f7bd3278492a"
      },
      "execution_count": 221,
      "outputs": [
        {
          "output_type": "execute_result",
          "data": {
            "text/plain": [
              "1.4142135623730951"
            ]
          },
          "metadata": {},
          "execution_count": 221
        }
      ]
    },
    {
      "cell_type": "code",
      "source": [
        "n"
      ],
      "metadata": {
        "colab": {
          "base_uri": "https://localhost:8080/"
        },
        "id": "sOpIs9tUbjDB",
        "outputId": "a516f02e-3376-45be-b5fe-2cc7d059f1fd"
      },
      "execution_count": 222,
      "outputs": [
        {
          "output_type": "execute_result",
          "data": {
            "text/plain": [
              "array([[ 1, 20,  0],\n",
              "       [ 4,  5,  1],\n",
              "       [ 1,  1,  2]])"
            ]
          },
          "metadata": {},
          "execution_count": 222
        }
      ]
    },
    {
      "cell_type": "code",
      "source": [
        "n.sum()"
      ],
      "metadata": {
        "colab": {
          "base_uri": "https://localhost:8080/"
        },
        "id": "K2tG5nZCbx37",
        "outputId": "cfcf7676-23ca-4087-cbb5-901b02266fa3"
      },
      "execution_count": 223,
      "outputs": [
        {
          "output_type": "execute_result",
          "data": {
            "text/plain": [
              "35"
            ]
          },
          "metadata": {},
          "execution_count": 223
        }
      ]
    },
    {
      "cell_type": "code",
      "source": [
        "n.min()"
      ],
      "metadata": {
        "colab": {
          "base_uri": "https://localhost:8080/"
        },
        "id": "OJkgFWapb39G",
        "outputId": "a3747e4c-a632-4b62-a8f6-f91411ae88ac"
      },
      "execution_count": 224,
      "outputs": [
        {
          "output_type": "execute_result",
          "data": {
            "text/plain": [
              "0"
            ]
          },
          "metadata": {},
          "execution_count": 224
        }
      ]
    },
    {
      "cell_type": "code",
      "source": [
        "n.max()"
      ],
      "metadata": {
        "colab": {
          "base_uri": "https://localhost:8080/"
        },
        "id": "a4CxSmfXb9iy",
        "outputId": "8142f1ab-2c93-4111-f623-6a64add8eb6b"
      },
      "execution_count": 225,
      "outputs": [
        {
          "output_type": "execute_result",
          "data": {
            "text/plain": [
              "20"
            ]
          },
          "metadata": {},
          "execution_count": 225
        }
      ]
    },
    {
      "cell_type": "markdown",
      "source": [
        "**Vector Operations**"
      ],
      "metadata": {
        "id": "IZMKQrVOvg9x"
      }
    },
    {
      "cell_type": "code",
      "source": [
        "# create a row vector u\n",
        "u = np.array([2, 4, 5, 6])\n",
        "u"
      ],
      "metadata": {
        "colab": {
          "base_uri": "https://localhost:8080/"
        },
        "id": "4g80GQm0vsuZ",
        "outputId": "5d93bd92-9394-438e-d796-1d6ae8ba70c7"
      },
      "execution_count": 226,
      "outputs": [
        {
          "output_type": "execute_result",
          "data": {
            "text/plain": [
              "array([2, 4, 5, 6])"
            ]
          },
          "metadata": {},
          "execution_count": 226
        }
      ]
    },
    {
      "cell_type": "code",
      "source": [
        "# multiply a numpy array by two\n",
        "2 * u"
      ],
      "metadata": {
        "colab": {
          "base_uri": "https://localhost:8080/"
        },
        "id": "h5_59bL1wnsE",
        "outputId": "acff7325-3041-4600-ae22-19789f4778f4"
      },
      "execution_count": 227,
      "outputs": [
        {
          "output_type": "execute_result",
          "data": {
            "text/plain": [
              "array([ 4,  8, 10, 12])"
            ]
          },
          "metadata": {},
          "execution_count": 227
        }
      ]
    },
    {
      "cell_type": "code",
      "source": [
        "# create a row vector v\n",
        "v = np.array([1, 0, 0, 2])\n",
        "v"
      ],
      "metadata": {
        "colab": {
          "base_uri": "https://localhost:8080/"
        },
        "id": "Dzdm26UQxHgk",
        "outputId": "1683590e-c71c-42ca-b146-d16a829a9504"
      },
      "execution_count": 228,
      "outputs": [
        {
          "output_type": "execute_result",
          "data": {
            "text/plain": [
              "array([1, 0, 0, 2])"
            ]
          },
          "metadata": {},
          "execution_count": 228
        }
      ]
    },
    {
      "cell_type": "code",
      "source": [
        "# add two row vectors\n",
        "u + v"
      ],
      "metadata": {
        "colab": {
          "base_uri": "https://localhost:8080/"
        },
        "id": "uYBJTVN7xT4y",
        "outputId": "ddb01583-4cb9-4612-a234-13e85b09ee8d"
      },
      "execution_count": 229,
      "outputs": [
        {
          "output_type": "execute_result",
          "data": {
            "text/plain": [
              "array([3, 4, 5, 8])"
            ]
          },
          "metadata": {},
          "execution_count": 229
        }
      ]
    },
    {
      "cell_type": "markdown",
      "source": [
        "**Multiplication**"
      ],
      "metadata": {
        "id": "BEYAAAzo40lE"
      }
    },
    {
      "cell_type": "markdown",
      "source": [
        "**Vector-vector Multiplication (Dot Product or Inner Product)**"
      ],
      "metadata": {
        "id": "eLssl0vsx70K"
      }
    },
    {
      "cell_type": "code",
      "source": [
        "# steps of the multiplication:\n",
        "# 1. multiply each element of the vector\n",
        "# 2. sum all the multiplication results\n",
        "# we can multiply two vectors if they have the same shape\n",
        "# if we have a row and column vector we need to use the transpose operation\n",
        "# for one of the vector e.g. if we have a column vector end the other one\n",
        "# is a row vector we use the transpose operation for this vector\n",
        "# to convert from row vector to a column vector"
      ],
      "metadata": {
        "id": "gGhhnl-gyOrS"
      },
      "execution_count": 230,
      "outputs": []
    },
    {
      "cell_type": "code",
      "source": [
        "# create multi-dimensional array U\n",
        "U = np.array([\n",
        "    [2, 4, 5, 6],\n",
        "    [1, 2, 1, 2],\n",
        "    [3, 1, 2, 1],\n",
        "])\n",
        "\n",
        "U"
      ],
      "metadata": {
        "colab": {
          "base_uri": "https://localhost:8080/"
        },
        "id": "nYPbPg0K45NF",
        "outputId": "f4cb1e72-232a-44d4-9e8a-b56bf33be4e1"
      },
      "execution_count": 231,
      "outputs": [
        {
          "output_type": "execute_result",
          "data": {
            "text/plain": [
              "array([[2, 4, 5, 6],\n",
              "       [1, 2, 1, 2],\n",
              "       [3, 1, 2, 1]])"
            ]
          },
          "metadata": {},
          "execution_count": 231
        }
      ]
    },
    {
      "cell_type": "code",
      "source": [
        "# create multi-dimensional array V\n",
        "V = np.array([\n",
        "    [1, 1, 2],\n",
        "    [0, 0.5, 1], \n",
        "    [0, 2, 1],\n",
        "    [2, 1, 0],\n",
        "])\n",
        "\n",
        "V"
      ],
      "metadata": {
        "colab": {
          "base_uri": "https://localhost:8080/"
        },
        "id": "GeI38coj6T_K",
        "outputId": "8840a90e-debc-4a7d-c989-fb205ae28113"
      },
      "execution_count": 232,
      "outputs": [
        {
          "output_type": "execute_result",
          "data": {
            "text/plain": [
              "array([[1. , 1. , 2. ],\n",
              "       [0. , 0.5, 1. ],\n",
              "       [0. , 2. , 1. ],\n",
              "       [2. , 1. , 0. ]])"
            ]
          },
          "metadata": {},
          "execution_count": 232
        }
      ]
    },
    {
      "cell_type": "code",
      "source": [
        "# declare a function that does the multiplication of two vectors\n",
        "def vector_vector_multiplication(u, v):\n",
        "  \n",
        "  # first we need to make sure the vectors as the same size\n",
        "  # use the assert statement known as assertion used to check data\n",
        "  assert u.shape[0] == v.shape[0]\n",
        "\n",
        "  # declare variable that store the size of the vector\n",
        "  n = u.shape[0]\n",
        "\n",
        "  # declare variable that store the result of the dot product\n",
        "  result = 0.0\n",
        "\n",
        "  # declare a loop to visit all elements of the vectors\n",
        "  for i in range(n):\n",
        "\n",
        "    # update result with the multiplication of the 2 vectors\n",
        "    result += u[i] * v[i]\n",
        "\n",
        "  # declare return the result of the function dot product\n",
        "  return result"
      ],
      "metadata": {
        "id": "K-_EvMVc77-S"
      },
      "execution_count": 233,
      "outputs": []
    },
    {
      "cell_type": "code",
      "source": [
        "# test the function dot product\n",
        "vector_vector_multiplication(u, v)"
      ],
      "metadata": {
        "colab": {
          "base_uri": "https://localhost:8080/"
        },
        "id": "Cn_4dSIlPAl1",
        "outputId": "8cac3909-33a8-4153-b4ff-d576f9cbf153"
      },
      "execution_count": 234,
      "outputs": [
        {
          "output_type": "execute_result",
          "data": {
            "text/plain": [
              "14.0"
            ]
          },
          "metadata": {},
          "execution_count": 234
        }
      ]
    },
    {
      "cell_type": "code",
      "source": [
        "# numpy has a function does the dot product\n",
        "u.dot(v)"
      ],
      "metadata": {
        "colab": {
          "base_uri": "https://localhost:8080/"
        },
        "id": "Kkflw31oPOm-",
        "outputId": "079b5786-fb95-4f08-8b59-911916270f25"
      },
      "execution_count": 235,
      "outputs": [
        {
          "output_type": "execute_result",
          "data": {
            "text/plain": [
              "14"
            ]
          },
          "metadata": {},
          "execution_count": 235
        }
      ]
    },
    {
      "cell_type": "markdown",
      "source": [
        "**Matrix-vector Multiplication**"
      ],
      "metadata": {
        "id": "fFPMhTsCQS5M"
      }
    },
    {
      "cell_type": "code",
      "source": [
        "# declare a function that does the multiplication of a matrix and a column vector\n",
        "def matrix_vector_multiplication(U, v): # use capital U to represent a matrix\n",
        "\n",
        "  # use the assert statement and because we have a matrix\n",
        "  # we are only interested in the number of columns\n",
        "  assert U.shape[1] == v.shape[0]\n",
        "\n",
        "  # declare variable that stores the number of rows of the matrix\n",
        "  num_rows = U.shape[0]\n",
        "\n",
        "  # declare variable stores the result of the multiplication\n",
        "  # use the function zeros to initialize it with zeros\n",
        "  result = np.zeros(num_rows)\n",
        "\n",
        "  # declare loop to go through each row of the matrix\n",
        "  for i in range(num_rows):\n",
        "\n",
        "    # update the result using the function vectors multiplication\n",
        "    result[i] = vector_vector_multiplication(U[i], v)\n",
        "\n",
        "  # declare return the result of the function matrix and vector multiplication\n",
        "  return result"
      ],
      "metadata": {
        "id": "xJNQ3pchQcdW"
      },
      "execution_count": 236,
      "outputs": []
    },
    {
      "cell_type": "code",
      "source": [
        "# test the function matrix vector multiplication\n",
        "matrix_vector_multiplication(U, v)"
      ],
      "metadata": {
        "colab": {
          "base_uri": "https://localhost:8080/"
        },
        "id": "F57ZLLg3dyo1",
        "outputId": "9c6d2fd7-877c-40d6-aad8-011cbedc5728"
      },
      "execution_count": 237,
      "outputs": [
        {
          "output_type": "execute_result",
          "data": {
            "text/plain": [
              "array([14.,  5.,  5.])"
            ]
          },
          "metadata": {},
          "execution_count": 237
        }
      ]
    },
    {
      "cell_type": "code",
      "source": [
        "# numpy has a function does the matrix vector multiplication\n",
        "U.dot(v)"
      ],
      "metadata": {
        "colab": {
          "base_uri": "https://localhost:8080/"
        },
        "id": "iiM-Viwqd_j8",
        "outputId": "1d15b80c-50f8-4651-e79b-c5fbbe2ac507"
      },
      "execution_count": 238,
      "outputs": [
        {
          "output_type": "execute_result",
          "data": {
            "text/plain": [
              "array([14,  5,  5])"
            ]
          },
          "metadata": {},
          "execution_count": 238
        }
      ]
    },
    {
      "cell_type": "markdown",
      "source": [
        "**Matrix-matrix Multiplication**"
      ],
      "metadata": {
        "id": "5p80AALyslzs"
      }
    },
    {
      "cell_type": "code",
      "source": [
        "V = np.array([\n",
        "    [1, 1, 2],\n",
        "    [0, 0.5, 1], \n",
        "    [0, 2, 1],\n",
        "    [2, 1, 0],\n",
        "])"
      ],
      "metadata": {
        "id": "SeN-pQaVsq_I"
      },
      "execution_count": 239,
      "outputs": []
    },
    {
      "cell_type": "code",
      "source": [
        "# declare a function that does the multiplication of two matrices\n",
        "def matrix_matrix_multiplication(U, V): # use capital U and V to represent a matrix\n",
        "\n",
        "  # use the assert statement to make sure that the dimensions of the matrices match\n",
        "  assert U.shape[1] == V.shape[0]\n",
        "\n",
        "  # declare variables to store the size of the matrix for rows and columns\n",
        "  num_rows = U.shape[0]\n",
        "  num_cols = V.shape[1]\n",
        "\n",
        "  # create a new matrix called result and initialize it with zeros\n",
        "  result = np.zeros((num_rows, num_cols))\n",
        "\n",
        "  # create loop to go through the columns of the matrix\n",
        "  for i in range(num_cols):\n",
        "\n",
        "    # declare variable to store the rows of the matrix\n",
        "    vi = V[:, i]\n",
        "\n",
        "    # store the result of the multiplication of matrix and vector\n",
        "    Uvi = matrix_vector_multiplication(U, vi)\n",
        "\n",
        "    # update column of the matrix result\n",
        "    result[:, i] = Uvi\n",
        "\n",
        "  # declare return the result of the function multiplication of two matrices\n",
        "  return result"
      ],
      "metadata": {
        "id": "CCrpIYxItIVa"
      },
      "execution_count": 242,
      "outputs": []
    },
    {
      "cell_type": "code",
      "source": [
        "# test the function matrices multiplication\n",
        "matrix_matrix_multiplication(U, V)"
      ],
      "metadata": {
        "colab": {
          "base_uri": "https://localhost:8080/"
        },
        "id": "HGWlZcWT1sYu",
        "outputId": "563f3534-f929-4335-8ca2-a12863fd0bc1"
      },
      "execution_count": 244,
      "outputs": [
        {
          "output_type": "execute_result",
          "data": {
            "text/plain": [
              "array([[14. , 20. , 13. ],\n",
              "       [ 5. ,  6. ,  5. ],\n",
              "       [ 5. ,  8.5,  9. ]])"
            ]
          },
          "metadata": {},
          "execution_count": 244
        }
      ]
    },
    {
      "cell_type": "code",
      "source": [
        "# numpy has a function does the matrices multiplication\n",
        "U.dot(V)"
      ],
      "metadata": {
        "colab": {
          "base_uri": "https://localhost:8080/"
        },
        "id": "9te2ZIPP2Ptd",
        "outputId": "2bc0e98c-cae0-438e-ea8b-5345a2f4f607"
      },
      "execution_count": 245,
      "outputs": [
        {
          "output_type": "execute_result",
          "data": {
            "text/plain": [
              "array([[14. , 20. , 13. ],\n",
              "       [ 5. ,  6. ,  5. ],\n",
              "       [ 5. ,  8.5,  9. ]])"
            ]
          },
          "metadata": {},
          "execution_count": 245
        }
      ]
    },
    {
      "cell_type": "code",
      "source": [],
      "metadata": {
        "id": "PrNR23MM2f7b"
      },
      "execution_count": null,
      "outputs": []
    }
  ]
}