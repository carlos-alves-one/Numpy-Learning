{
  "nbformat": 4,
  "nbformat_minor": 0,
  "metadata": {
    "colab": {
      "name": " Numpy-Learning .ipynb",
      "provenance": [],
      "collapsed_sections": [],
      "authorship_tag": "ABX9TyOirI65EDczksjq3+Quse+O",
      "include_colab_link": true
    },
    "kernelspec": {
      "name": "python3",
      "display_name": "Python 3"
    },
    "language_info": {
      "name": "python"
    }
  },
  "cells": [
    {
      "cell_type": "markdown",
      "metadata": {
        "id": "view-in-github",
        "colab_type": "text"
      },
      "source": [
        "<a href=\"https://colab.research.google.com/github/carlos-alves-one/Numpy-Learning/blob/main/Numpy_Learning_.ipynb\" target=\"_parent\"><img src=\"https://colab.research.google.com/assets/colab-badge.svg\" alt=\"Open In Colab\"/></a>"
      ]
    },
    {
      "cell_type": "markdown",
      "source": [
        "## Goldsmiths University of London\n",
        "**Author....: Carlos Manuel de Oliveira Alves**<br>\n",
        "**Student..: cdeol003**<br>\n",
        "**Created..: 23/08/2022**"
      ],
      "metadata": {
        "id": "oaiU4WH33DGX"
      }
    },
    {
      "cell_type": "code",
      "execution_count": 56,
      "metadata": {
        "id": "ZZ9acF2_29T0"
      },
      "outputs": [],
      "source": [
        "# import numpy library for linear algebra\n",
        "import numpy as np"
      ]
    },
    {
      "cell_type": "code",
      "source": [
        "# create an array with function zeros\n",
        "np.zeros(10)"
      ],
      "metadata": {
        "colab": {
          "base_uri": "https://localhost:8080/"
        },
        "id": "6Y-zlvmv4mpQ",
        "outputId": "39647ffe-7e89-4f41-e43e-099d2cfdcf11"
      },
      "execution_count": 57,
      "outputs": [
        {
          "output_type": "execute_result",
          "data": {
            "text/plain": [
              "array([0., 0., 0., 0., 0., 0., 0., 0., 0., 0.])"
            ]
          },
          "metadata": {},
          "execution_count": 57
        }
      ]
    },
    {
      "cell_type": "code",
      "source": [
        "# create an array with function ones\n",
        "np.ones(10)"
      ],
      "metadata": {
        "colab": {
          "base_uri": "https://localhost:8080/"
        },
        "id": "3VDzyP1G43yc",
        "outputId": "e42940fb-8db3-41d5-d0dc-e362e19a4340"
      },
      "execution_count": 58,
      "outputs": [
        {
          "output_type": "execute_result",
          "data": {
            "text/plain": [
              "array([1., 1., 1., 1., 1., 1., 1., 1., 1., 1.])"
            ]
          },
          "metadata": {},
          "execution_count": 58
        }
      ]
    },
    {
      "cell_type": "code",
      "source": [
        "# create an array with function full\n",
        "np.full(10, 2.5)"
      ],
      "metadata": {
        "colab": {
          "base_uri": "https://localhost:8080/"
        },
        "id": "YWWjnftv5Oz2",
        "outputId": "a9d7df89-e732-4097-c823-61f72b8928f2"
      },
      "execution_count": 59,
      "outputs": [
        {
          "output_type": "execute_result",
          "data": {
            "text/plain": [
              "array([2.5, 2.5, 2.5, 2.5, 2.5, 2.5, 2.5, 2.5, 2.5, 2.5])"
            ]
          },
          "metadata": {},
          "execution_count": 59
        }
      ]
    },
    {
      "cell_type": "code",
      "source": [
        "# create an array with a list with numbers\n",
        "a = np.array([1,2,3,5,7,12])\n",
        "a"
      ],
      "metadata": {
        "colab": {
          "base_uri": "https://localhost:8080/"
        },
        "id": "zGWeYmek5lu8",
        "outputId": "ef48e5f6-15e6-4632-9c4c-0f5c7c35b05a"
      },
      "execution_count": 60,
      "outputs": [
        {
          "output_type": "execute_result",
          "data": {
            "text/plain": [
              "array([ 1,  2,  3,  5,  7, 12])"
            ]
          },
          "metadata": {},
          "execution_count": 60
        }
      ]
    },
    {
      "cell_type": "code",
      "source": [
        "# access a specific element in the array\n",
        "a[2]"
      ],
      "metadata": {
        "colab": {
          "base_uri": "https://localhost:8080/"
        },
        "id": "y9ShPYYg6RrH",
        "outputId": "35b352d0-018d-4af0-e9dc-5aff7bc125a4"
      },
      "execution_count": 61,
      "outputs": [
        {
          "output_type": "execute_result",
          "data": {
            "text/plain": [
              "3"
            ]
          },
          "metadata": {},
          "execution_count": 61
        }
      ]
    },
    {
      "cell_type": "code",
      "source": [
        "# replace the value of a specific element in the array\n",
        "a[2] = 10\n",
        "a"
      ],
      "metadata": {
        "colab": {
          "base_uri": "https://localhost:8080/"
        },
        "id": "r86WeKgm6wkJ",
        "outputId": "4e4b44ac-5e40-4d35-e708-38f2153931b7"
      },
      "execution_count": 62,
      "outputs": [
        {
          "output_type": "execute_result",
          "data": {
            "text/plain": [
              "array([ 1,  2, 10,  5,  7, 12])"
            ]
          },
          "metadata": {},
          "execution_count": 62
        }
      ]
    },
    {
      "cell_type": "code",
      "source": [
        "# create an array using the function range\n",
        "np.arange(10)"
      ],
      "metadata": {
        "colab": {
          "base_uri": "https://localhost:8080/"
        },
        "id": "QTL_GeZB8cWB",
        "outputId": "a1d040bc-c02f-4df4-a5df-191bb7fde211"
      },
      "execution_count": 63,
      "outputs": [
        {
          "output_type": "execute_result",
          "data": {
            "text/plain": [
              "array([0, 1, 2, 3, 4, 5, 6, 7, 8, 9])"
            ]
          },
          "metadata": {},
          "execution_count": 63
        }
      ]
    },
    {
      "cell_type": "code",
      "source": [
        "# create an array using the function range but start at a specific number\n",
        "np.arange(3, 10)"
      ],
      "metadata": {
        "colab": {
          "base_uri": "https://localhost:8080/"
        },
        "id": "D65o1tWG9OZJ",
        "outputId": "df4b0675-c715-46cb-8712-b7751bc75a90"
      },
      "execution_count": 64,
      "outputs": [
        {
          "output_type": "execute_result",
          "data": {
            "text/plain": [
              "array([3, 4, 5, 6, 7, 8, 9])"
            ]
          },
          "metadata": {},
          "execution_count": 64
        }
      ]
    },
    {
      "cell_type": "code",
      "source": [
        "# create an array using the function linspace\n",
        "# create an array with 11 elements and with numbers between 0 and 1\n",
        "np.linspace(0, 1, 11)"
      ],
      "metadata": {
        "colab": {
          "base_uri": "https://localhost:8080/"
        },
        "id": "gUAT7pdS9pnq",
        "outputId": "a1d172e5-4475-48f1-c073-b63b6900b1c4"
      },
      "execution_count": 65,
      "outputs": [
        {
          "output_type": "execute_result",
          "data": {
            "text/plain": [
              "array([0. , 0.1, 0.2, 0.3, 0.4, 0.5, 0.6, 0.7, 0.8, 0.9, 1. ])"
            ]
          },
          "metadata": {},
          "execution_count": 65
        }
      ]
    },
    {
      "cell_type": "code",
      "source": [
        "# create a multi-dimensional array\n",
        "# an array with 5 rows and 2 columns\n",
        "np.zeros((5,2))"
      ],
      "metadata": {
        "colab": {
          "base_uri": "https://localhost:8080/"
        },
        "id": "lmz00GbK-b9P",
        "outputId": "a0921b45-9e33-4ea1-a7f7-244bb4fb1658"
      },
      "execution_count": 66,
      "outputs": [
        {
          "output_type": "execute_result",
          "data": {
            "text/plain": [
              "array([[0., 0.],\n",
              "       [0., 0.],\n",
              "       [0., 0.],\n",
              "       [0., 0.],\n",
              "       [0., 0.]])"
            ]
          },
          "metadata": {},
          "execution_count": 66
        }
      ]
    },
    {
      "cell_type": "code",
      "source": [
        "# create a multi-dimensional array with a list of numbers\n",
        "n = np.array([\n",
        "    [1,2,3],\n",
        "    [4,5,6],\n",
        "    [7,8,9]\n",
        "])\n",
        "n"
      ],
      "metadata": {
        "colab": {
          "base_uri": "https://localhost:8080/"
        },
        "id": "5a-eydrT_XfB",
        "outputId": "9566941e-5ba1-4e5c-dbc4-0022c4bf99ff"
      },
      "execution_count": 67,
      "outputs": [
        {
          "output_type": "execute_result",
          "data": {
            "text/plain": [
              "array([[1, 2, 3],\n",
              "       [4, 5, 6],\n",
              "       [7, 8, 9]])"
            ]
          },
          "metadata": {},
          "execution_count": 67
        }
      ]
    },
    {
      "cell_type": "code",
      "source": [
        "# access to an element in a multi-dimensional array\n",
        "n[0, 1]"
      ],
      "metadata": {
        "colab": {
          "base_uri": "https://localhost:8080/"
        },
        "id": "CQ-NV7LJAHCy",
        "outputId": "7b48a238-59cc-4706-b80b-27fa4117eab3"
      },
      "execution_count": 68,
      "outputs": [
        {
          "output_type": "execute_result",
          "data": {
            "text/plain": [
              "2"
            ]
          },
          "metadata": {},
          "execution_count": 68
        }
      ]
    },
    {
      "cell_type": "code",
      "source": [
        "# replace the value of a specific element in a multi-dimensional array\n",
        "n[ 0, 1] = 20\n",
        "n"
      ],
      "metadata": {
        "colab": {
          "base_uri": "https://localhost:8080/"
        },
        "id": "L-fQW2D-BEHN",
        "outputId": "57c5bb02-6c9f-47bc-e0c1-ffa56ecb575e"
      },
      "execution_count": 69,
      "outputs": [
        {
          "output_type": "execute_result",
          "data": {
            "text/plain": [
              "array([[ 1, 20,  3],\n",
              "       [ 4,  5,  6],\n",
              "       [ 7,  8,  9]])"
            ]
          },
          "metadata": {},
          "execution_count": 69
        }
      ]
    },
    {
      "cell_type": "code",
      "source": [
        "# access the row of a multi-dimensional array\n",
        "n[0]"
      ],
      "metadata": {
        "colab": {
          "base_uri": "https://localhost:8080/"
        },
        "id": "JWb7ajy4B39a",
        "outputId": "37eef07f-a829-4f2f-8da0-2fe588d4ca71"
      },
      "execution_count": 70,
      "outputs": [
        {
          "output_type": "execute_result",
          "data": {
            "text/plain": [
              "array([ 1, 20,  3])"
            ]
          },
          "metadata": {},
          "execution_count": 70
        }
      ]
    },
    {
      "cell_type": "code",
      "source": [
        "# rewrite the entire row of a multi-dimensional array\n",
        "n[2] = [1,1,1]\n",
        "n"
      ],
      "metadata": {
        "colab": {
          "base_uri": "https://localhost:8080/"
        },
        "id": "4O1NMAUOCSv1",
        "outputId": "b0495ae0-f17b-4816-dd9f-d03526e60945"
      },
      "execution_count": 71,
      "outputs": [
        {
          "output_type": "execute_result",
          "data": {
            "text/plain": [
              "array([[ 1, 20,  3],\n",
              "       [ 4,  5,  6],\n",
              "       [ 1,  1,  1]])"
            ]
          },
          "metadata": {},
          "execution_count": 71
        }
      ]
    },
    {
      "cell_type": "code",
      "source": [
        "# access a specific column in a multi-dimensional array\n",
        "n[:, 1] # to access the second column"
      ],
      "metadata": {
        "colab": {
          "base_uri": "https://localhost:8080/"
        },
        "id": "xftde14bTLun",
        "outputId": "73397326-ed79-48c2-dcde-4012e5207e18"
      },
      "execution_count": 72,
      "outputs": [
        {
          "output_type": "execute_result",
          "data": {
            "text/plain": [
              "array([20,  5,  1])"
            ]
          },
          "metadata": {},
          "execution_count": 72
        }
      ]
    },
    {
      "cell_type": "code",
      "source": [
        "# return all the rows of the multi-dimensionl array\n",
        "n[:]"
      ],
      "metadata": {
        "colab": {
          "base_uri": "https://localhost:8080/"
        },
        "id": "iqlKKrHDYTPn",
        "outputId": "02dde790-b12a-4de6-9791-485ce45b2397"
      },
      "execution_count": 73,
      "outputs": [
        {
          "output_type": "execute_result",
          "data": {
            "text/plain": [
              "array([[ 1, 20,  3],\n",
              "       [ 4,  5,  6],\n",
              "       [ 1,  1,  1]])"
            ]
          },
          "metadata": {},
          "execution_count": 73
        }
      ]
    },
    {
      "cell_type": "code",
      "source": [
        "# assign new values to a specific columns in multi-dimensionl array\n",
        "n[:, 2] = [0, 1, 2]\n",
        "n"
      ],
      "metadata": {
        "colab": {
          "base_uri": "https://localhost:8080/"
        },
        "id": "DokPdrLZYvEB",
        "outputId": "731b3c85-44ab-446d-a6c7-ed85f6beff37"
      },
      "execution_count": 74,
      "outputs": [
        {
          "output_type": "execute_result",
          "data": {
            "text/plain": [
              "array([[ 1, 20,  0],\n",
              "       [ 4,  5,  1],\n",
              "       [ 1,  1,  2]])"
            ]
          },
          "metadata": {},
          "execution_count": 74
        }
      ]
    },
    {
      "cell_type": "code",
      "source": [
        "# generate randomly two dimensional array\n",
        "# the numbers are random between zero and one\n",
        "# using the seed function to generate the same random numbers\n",
        "np.random.seed(2)\n",
        "np.random.rand(5, 2) # 5 rows and 2 columns"
      ],
      "metadata": {
        "colab": {
          "base_uri": "https://localhost:8080/"
        },
        "id": "eOKwDZqaZPYG",
        "outputId": "176bdfdc-6a61-44f5-f89d-15bc3d9c77db"
      },
      "execution_count": 75,
      "outputs": [
        {
          "output_type": "execute_result",
          "data": {
            "text/plain": [
              "array([[0.4359949 , 0.02592623],\n",
              "       [0.54966248, 0.43532239],\n",
              "       [0.4203678 , 0.33033482],\n",
              "       [0.20464863, 0.61927097],\n",
              "       [0.29965467, 0.26682728]])"
            ]
          },
          "metadata": {},
          "execution_count": 75
        }
      ]
    },
    {
      "cell_type": "code",
      "source": [
        "# use the standard normal distribution\n",
        "np.random.seed(2)\n",
        "np.random.randn(5, 2)"
      ],
      "metadata": {
        "colab": {
          "base_uri": "https://localhost:8080/"
        },
        "id": "yTPLep5eaFZV",
        "outputId": "7b58c6a6-7be8-4ab7-d064-fbdc1d10118e"
      },
      "execution_count": 76,
      "outputs": [
        {
          "output_type": "execute_result",
          "data": {
            "text/plain": [
              "array([[-0.41675785, -0.05626683],\n",
              "       [-2.1361961 ,  1.64027081],\n",
              "       [-1.79343559, -0.84174737],\n",
              "       [ 0.50288142, -1.24528809],\n",
              "       [-1.05795222, -0.90900761]])"
            ]
          },
          "metadata": {},
          "execution_count": 76
        }
      ]
    },
    {
      "cell_type": "code",
      "source": [
        "# generate random numbers between 0 and 100\n",
        "np.random.seed(2)\n",
        "100 * np.random.rand(5, 2)"
      ],
      "metadata": {
        "colab": {
          "base_uri": "https://localhost:8080/"
        },
        "id": "twhWpIh2dA99",
        "outputId": "820574b8-8a37-4f0e-f0e4-693f974cd799"
      },
      "execution_count": 77,
      "outputs": [
        {
          "output_type": "execute_result",
          "data": {
            "text/plain": [
              "array([[43.59949021,  2.59262318],\n",
              "       [54.96624779, 43.53223926],\n",
              "       [42.03678021, 33.0334821 ],\n",
              "       [20.4648634 , 61.92709664],\n",
              "       [29.96546737, 26.68272751]])"
            ]
          },
          "metadata": {},
          "execution_count": 77
        }
      ]
    },
    {
      "cell_type": "code",
      "source": [
        "# generate random integers between 0 and 99\n",
        "np.random.seed(2)\n",
        "np.random.randint(low=0, high=100, size=(5,2))"
      ],
      "metadata": {
        "colab": {
          "base_uri": "https://localhost:8080/"
        },
        "id": "fA-wIC1-dnUN",
        "outputId": "bb96c0a0-9f93-4608-9c4c-f5d00718b7cc"
      },
      "execution_count": 78,
      "outputs": [
        {
          "output_type": "execute_result",
          "data": {
            "text/plain": [
              "array([[40, 15],\n",
              "       [72, 22],\n",
              "       [43, 82],\n",
              "       [75,  7],\n",
              "       [34, 49]])"
            ]
          },
          "metadata": {},
          "execution_count": 78
        }
      ]
    },
    {
      "cell_type": "markdown",
      "source": [
        "**Element-Wise Operations**"
      ],
      "metadata": {
        "id": "D-tCPIYPv_6e"
      }
    },
    {
      "cell_type": "code",
      "source": [
        "# create an array using the arange function\n",
        "a = np.arange(5)\n",
        "a"
      ],
      "metadata": {
        "id": "yI4-LONMwPg6",
        "colab": {
          "base_uri": "https://localhost:8080/"
        },
        "outputId": "b08c5fdd-73cb-4d14-dbe9-b5733bb0bb99"
      },
      "execution_count": 79,
      "outputs": [
        {
          "output_type": "execute_result",
          "data": {
            "text/plain": [
              "array([0, 1, 2, 3, 4])"
            ]
          },
          "metadata": {},
          "execution_count": 79
        }
      ]
    },
    {
      "cell_type": "code",
      "source": [
        "# use element-wise operations addition with array\n",
        "a + 1"
      ],
      "metadata": {
        "colab": {
          "base_uri": "https://localhost:8080/"
        },
        "id": "eHKTwlHdUIgD",
        "outputId": "8e872ce1-e4b6-4a7e-cb50-d43d282fea26"
      },
      "execution_count": 80,
      "outputs": [
        {
          "output_type": "execute_result",
          "data": {
            "text/plain": [
              "array([1, 2, 3, 4, 5])"
            ]
          },
          "metadata": {},
          "execution_count": 80
        }
      ]
    },
    {
      "cell_type": "code",
      "source": [
        "# use element-wise operations multiplication with array\n",
        "a * 2"
      ],
      "metadata": {
        "colab": {
          "base_uri": "https://localhost:8080/"
        },
        "id": "dn8jNCEsUpXb",
        "outputId": "bf141225-b0d6-4f54-9b81-885f0ecea22d"
      },
      "execution_count": 81,
      "outputs": [
        {
          "output_type": "execute_result",
          "data": {
            "text/plain": [
              "array([0, 2, 4, 6, 8])"
            ]
          },
          "metadata": {},
          "execution_count": 81
        }
      ]
    },
    {
      "cell_type": "code",
      "source": [
        "# more complex element-wise operations\n",
        "b = (10 + (a *2)) ** 2 / 100\n",
        "b"
      ],
      "metadata": {
        "colab": {
          "base_uri": "https://localhost:8080/"
        },
        "id": "NlsPiuC_VDv_",
        "outputId": "c376773a-d6c9-4c70-d564-8eb3ced33832"
      },
      "execution_count": 82,
      "outputs": [
        {
          "output_type": "execute_result",
          "data": {
            "text/plain": [
              "array([1.  , 1.44, 1.96, 2.56, 3.24])"
            ]
          },
          "metadata": {},
          "execution_count": 82
        }
      ]
    },
    {
      "cell_type": "code",
      "source": [
        "# combine two arrays\n",
        "a + b"
      ],
      "metadata": {
        "colab": {
          "base_uri": "https://localhost:8080/"
        },
        "id": "4UuXRsV8VbKB",
        "outputId": "fabd8c58-b71c-4662-8963-dc1e309ba965"
      },
      "execution_count": 83,
      "outputs": [
        {
          "output_type": "execute_result",
          "data": {
            "text/plain": [
              "array([1.  , 2.44, 3.96, 5.56, 7.24])"
            ]
          },
          "metadata": {},
          "execution_count": 83
        }
      ]
    },
    {
      "cell_type": "code",
      "source": [
        "# combine two arrays more complex\n",
        "a / b + 10"
      ],
      "metadata": {
        "colab": {
          "base_uri": "https://localhost:8080/"
        },
        "id": "SKjrMp5FV8mA",
        "outputId": "5caa8c56-1139-46eb-e734-dc68ec2d7f8b"
      },
      "execution_count": 84,
      "outputs": [
        {
          "output_type": "execute_result",
          "data": {
            "text/plain": [
              "array([10.        , 10.69444444, 11.02040816, 11.171875  , 11.2345679 ])"
            ]
          },
          "metadata": {},
          "execution_count": 84
        }
      ]
    },
    {
      "cell_type": "markdown",
      "source": [
        "**Comparison Operations**"
      ],
      "metadata": {
        "id": "K5_hWCeTWsKp"
      }
    },
    {
      "cell_type": "code",
      "source": [
        " a"
      ],
      "metadata": {
        "colab": {
          "base_uri": "https://localhost:8080/"
        },
        "id": "7uJ5zFI2WvqW",
        "outputId": "12fa96b8-fb81-45cd-ecdb-02b3c835b0f5"
      },
      "execution_count": 85,
      "outputs": [
        {
          "output_type": "execute_result",
          "data": {
            "text/plain": [
              "array([0, 1, 2, 3, 4])"
            ]
          },
          "metadata": {},
          "execution_count": 85
        }
      ]
    },
    {
      "cell_type": "code",
      "source": [
        "a >= 2"
      ],
      "metadata": {
        "colab": {
          "base_uri": "https://localhost:8080/"
        },
        "id": "rHR6Wn1iW2O-",
        "outputId": "9b869161-c2eb-4c4d-e543-0125ce026569"
      },
      "execution_count": 86,
      "outputs": [
        {
          "output_type": "execute_result",
          "data": {
            "text/plain": [
              "array([False, False,  True,  True,  True])"
            ]
          },
          "metadata": {},
          "execution_count": 86
        }
      ]
    },
    {
      "cell_type": "code",
      "source": [
        "a > b"
      ],
      "metadata": {
        "colab": {
          "base_uri": "https://localhost:8080/"
        },
        "id": "Tf0gJ2HpW40t",
        "outputId": "f312b5f2-d5e7-4ca2-8c79-b8cba7e9d37c"
      },
      "execution_count": 87,
      "outputs": [
        {
          "output_type": "execute_result",
          "data": {
            "text/plain": [
              "array([False, False,  True,  True,  True])"
            ]
          },
          "metadata": {},
          "execution_count": 87
        }
      ]
    },
    {
      "cell_type": "code",
      "source": [
        "# create an array with elements for which the condition is true\n",
        "a[a > b]"
      ],
      "metadata": {
        "colab": {
          "base_uri": "https://localhost:8080/"
        },
        "id": "XW8r0vVlX3dp",
        "outputId": "4a5865f4-ac6a-4eae-9b44-8d2ad2126a7a"
      },
      "execution_count": 88,
      "outputs": [
        {
          "output_type": "execute_result",
          "data": {
            "text/plain": [
              "array([2, 3, 4])"
            ]
          },
          "metadata": {},
          "execution_count": 88
        }
      ]
    },
    {
      "cell_type": "markdown",
      "source": [
        "**Summarizing Operations**"
      ],
      "metadata": {
        "id": "dP4C6WAOZzqE"
      }
    },
    {
      "cell_type": "code",
      "source": [
        "a"
      ],
      "metadata": {
        "colab": {
          "base_uri": "https://localhost:8080/"
        },
        "id": "K4aHLXjjZ5dQ",
        "outputId": "de66bb86-58e8-4ec4-efc0-d064400b27e9"
      },
      "execution_count": 89,
      "outputs": [
        {
          "output_type": "execute_result",
          "data": {
            "text/plain": [
              "array([0, 1, 2, 3, 4])"
            ]
          },
          "metadata": {},
          "execution_count": 89
        }
      ]
    },
    {
      "cell_type": "code",
      "source": [
        "# use the function min that return the smallest number in the array\n",
        "a.min()"
      ],
      "metadata": {
        "colab": {
          "base_uri": "https://localhost:8080/"
        },
        "id": "G42HfhyBZ9e0",
        "outputId": "67390ce1-79d4-4cd7-c6d3-1c84c45934bd"
      },
      "execution_count": 90,
      "outputs": [
        {
          "output_type": "execute_result",
          "data": {
            "text/plain": [
              "0"
            ]
          },
          "metadata": {},
          "execution_count": 90
        }
      ]
    },
    {
      "cell_type": "code",
      "source": [
        "# use the function max that return the maximal number in the array\n",
        "a.max()"
      ],
      "metadata": {
        "colab": {
          "base_uri": "https://localhost:8080/"
        },
        "id": "dXboZFYAaN7u",
        "outputId": "832b7b12-fd99-4533-9831-0db2418b22b4"
      },
      "execution_count": 91,
      "outputs": [
        {
          "output_type": "execute_result",
          "data": {
            "text/plain": [
              "4"
            ]
          },
          "metadata": {},
          "execution_count": 91
        }
      ]
    },
    {
      "cell_type": "code",
      "source": [
        "# use the function sum that computes the sum of all elements in the array\n",
        "a.sum()"
      ],
      "metadata": {
        "colab": {
          "base_uri": "https://localhost:8080/"
        },
        "id": "5-kpErztaigA",
        "outputId": "964b1893-3371-436c-eb15-a783a903c4d7"
      },
      "execution_count": 92,
      "outputs": [
        {
          "output_type": "execute_result",
          "data": {
            "text/plain": [
              "10"
            ]
          },
          "metadata": {},
          "execution_count": 92
        }
      ]
    },
    {
      "cell_type": "code",
      "source": [
        "# use the function mean that conmputes the average number in tbe array\n",
        "a.mean()"
      ],
      "metadata": {
        "colab": {
          "base_uri": "https://localhost:8080/"
        },
        "id": "LoWCUrYaa5vG",
        "outputId": "268bf67a-b9b9-48cd-b3c1-2bee8fb7973d"
      },
      "execution_count": 93,
      "outputs": [
        {
          "output_type": "execute_result",
          "data": {
            "text/plain": [
              "2.0"
            ]
          },
          "metadata": {},
          "execution_count": 93
        }
      ]
    },
    {
      "cell_type": "code",
      "source": [
        "# use the standard deviation function\n",
        "a.std()"
      ],
      "metadata": {
        "colab": {
          "base_uri": "https://localhost:8080/"
        },
        "id": "W4evy3SZbQzL",
        "outputId": "2f8f8029-e230-4b6a-b2d9-007888b47a9b"
      },
      "execution_count": 94,
      "outputs": [
        {
          "output_type": "execute_result",
          "data": {
            "text/plain": [
              "1.4142135623730951"
            ]
          },
          "metadata": {},
          "execution_count": 94
        }
      ]
    },
    {
      "cell_type": "code",
      "source": [
        "n"
      ],
      "metadata": {
        "colab": {
          "base_uri": "https://localhost:8080/"
        },
        "id": "sOpIs9tUbjDB",
        "outputId": "5e017fb8-77d6-4cec-c5aa-c0f0ae69d427"
      },
      "execution_count": 95,
      "outputs": [
        {
          "output_type": "execute_result",
          "data": {
            "text/plain": [
              "array([[ 1, 20,  0],\n",
              "       [ 4,  5,  1],\n",
              "       [ 1,  1,  2]])"
            ]
          },
          "metadata": {},
          "execution_count": 95
        }
      ]
    },
    {
      "cell_type": "code",
      "source": [
        "n.sum()"
      ],
      "metadata": {
        "colab": {
          "base_uri": "https://localhost:8080/"
        },
        "id": "K2tG5nZCbx37",
        "outputId": "c3af27db-cee9-4327-afff-46e5f77d5e93"
      },
      "execution_count": 96,
      "outputs": [
        {
          "output_type": "execute_result",
          "data": {
            "text/plain": [
              "35"
            ]
          },
          "metadata": {},
          "execution_count": 96
        }
      ]
    },
    {
      "cell_type": "code",
      "source": [
        "n.min()"
      ],
      "metadata": {
        "colab": {
          "base_uri": "https://localhost:8080/"
        },
        "id": "OJkgFWapb39G",
        "outputId": "ea1ec671-d264-46c5-a1d7-f63117e1372b"
      },
      "execution_count": 97,
      "outputs": [
        {
          "output_type": "execute_result",
          "data": {
            "text/plain": [
              "0"
            ]
          },
          "metadata": {},
          "execution_count": 97
        }
      ]
    },
    {
      "cell_type": "code",
      "source": [
        "n.max()"
      ],
      "metadata": {
        "colab": {
          "base_uri": "https://localhost:8080/"
        },
        "id": "a4CxSmfXb9iy",
        "outputId": "bf777e27-33f7-4552-8e9b-6eb827715cd6"
      },
      "execution_count": 98,
      "outputs": [
        {
          "output_type": "execute_result",
          "data": {
            "text/plain": [
              "20"
            ]
          },
          "metadata": {},
          "execution_count": 98
        }
      ]
    },
    {
      "cell_type": "markdown",
      "source": [
        "**Vector Operations**"
      ],
      "metadata": {
        "id": "IZMKQrVOvg9x"
      }
    },
    {
      "cell_type": "code",
      "source": [
        "# create a row vector u\n",
        "u = np.array([2, 4, 5, 6])\n",
        "u"
      ],
      "metadata": {
        "colab": {
          "base_uri": "https://localhost:8080/"
        },
        "id": "4g80GQm0vsuZ",
        "outputId": "1ac6342a-c880-4963-f042-de4654850781"
      },
      "execution_count": 99,
      "outputs": [
        {
          "output_type": "execute_result",
          "data": {
            "text/plain": [
              "array([2, 4, 5, 6])"
            ]
          },
          "metadata": {},
          "execution_count": 99
        }
      ]
    },
    {
      "cell_type": "code",
      "source": [
        "# multiply a numpy array by two\n",
        "2 * u"
      ],
      "metadata": {
        "colab": {
          "base_uri": "https://localhost:8080/"
        },
        "id": "h5_59bL1wnsE",
        "outputId": "9ca35e0f-d31e-4a45-eafa-7892f866e208"
      },
      "execution_count": 100,
      "outputs": [
        {
          "output_type": "execute_result",
          "data": {
            "text/plain": [
              "array([ 4,  8, 10, 12])"
            ]
          },
          "metadata": {},
          "execution_count": 100
        }
      ]
    },
    {
      "cell_type": "code",
      "source": [
        "# create a row vector v\n",
        "v = np.array([1, 0, 0, 2])\n",
        "v"
      ],
      "metadata": {
        "colab": {
          "base_uri": "https://localhost:8080/"
        },
        "id": "Dzdm26UQxHgk",
        "outputId": "8eae6bfd-db50-4217-c51a-90bc0ae590cf"
      },
      "execution_count": 101,
      "outputs": [
        {
          "output_type": "execute_result",
          "data": {
            "text/plain": [
              "array([1, 0, 0, 2])"
            ]
          },
          "metadata": {},
          "execution_count": 101
        }
      ]
    },
    {
      "cell_type": "code",
      "source": [
        "# add two row vectors\n",
        "u + v"
      ],
      "metadata": {
        "colab": {
          "base_uri": "https://localhost:8080/"
        },
        "id": "uYBJTVN7xT4y",
        "outputId": "e1d57215-a50a-4e65-d435-188b2926d1d4"
      },
      "execution_count": 102,
      "outputs": [
        {
          "output_type": "execute_result",
          "data": {
            "text/plain": [
              "array([3, 4, 5, 8])"
            ]
          },
          "metadata": {},
          "execution_count": 102
        }
      ]
    },
    {
      "cell_type": "markdown",
      "source": [
        "**Multiplication**"
      ],
      "metadata": {
        "id": "BEYAAAzo40lE"
      }
    },
    {
      "cell_type": "markdown",
      "source": [
        "**Vector-vector Multiplication (Dot Product or Inner Product)**"
      ],
      "metadata": {
        "id": "eLssl0vsx70K"
      }
    },
    {
      "cell_type": "code",
      "source": [
        "# steps of the multiplication:\n",
        "# 1. multiply each element of the vector\n",
        "# 2. sum all the multiplication results\n",
        "# we can multiply two vectors if they have the same shape\n",
        "# if we have a row and column vector we need to use the transpose operation\n",
        "# for one of the vector e.g. if we have a column vector end the other one\n",
        "# is a row vector we use the transpose operation for this vector\n",
        "# to convert from row vector to a column vector"
      ],
      "metadata": {
        "id": "gGhhnl-gyOrS"
      },
      "execution_count": 103,
      "outputs": []
    },
    {
      "cell_type": "code",
      "source": [
        "# create multi-dimensional array U\n",
        "U = np.array([\n",
        "    [2, 4, 5, 6],\n",
        "    [1, 2, 1, 2],\n",
        "    [3, 1, 2, 1],\n",
        "])\n",
        "\n",
        "U"
      ],
      "metadata": {
        "colab": {
          "base_uri": "https://localhost:8080/"
        },
        "id": "nYPbPg0K45NF",
        "outputId": "d88d3b79-570d-4d76-a1b0-9d996731f114"
      },
      "execution_count": 104,
      "outputs": [
        {
          "output_type": "execute_result",
          "data": {
            "text/plain": [
              "array([[2, 4, 5, 6],\n",
              "       [1, 2, 1, 2],\n",
              "       [3, 1, 2, 1]])"
            ]
          },
          "metadata": {},
          "execution_count": 104
        }
      ]
    },
    {
      "cell_type": "code",
      "source": [
        "# create multi-dimensional array V\n",
        "V = np.array([\n",
        "    [1, 1, 2],\n",
        "    [0, 0.5, 1], \n",
        "    [0, 2, 1],\n",
        "    [2, 1, 0],\n",
        "])\n",
        "\n",
        "U"
      ],
      "metadata": {
        "colab": {
          "base_uri": "https://localhost:8080/"
        },
        "id": "GeI38coj6T_K",
        "outputId": "959052ef-d1af-404b-c450-6ff4254f142d"
      },
      "execution_count": 105,
      "outputs": [
        {
          "output_type": "execute_result",
          "data": {
            "text/plain": [
              "array([[2, 4, 5, 6],\n",
              "       [1, 2, 1, 2],\n",
              "       [3, 1, 2, 1]])"
            ]
          },
          "metadata": {},
          "execution_count": 105
        }
      ]
    },
    {
      "cell_type": "code",
      "source": [
        "# declare a function that does the multiplication of two vectors\n",
        "def vector_vector_multiplication(u, v):\n",
        "  \n",
        "  # first we need to make sure the vectors as the same size\n",
        "  # use the assert statement known as assertion used to check data\n",
        "  assert u.shape[0] == v.shape[0]\n",
        "\n",
        "  # declare variable that store the size of the vector\n",
        "  n = u.shape[0]\n",
        "\n",
        "  # declare variable that store the result of the dot product\n",
        "  result = 0.0\n",
        "\n",
        "  # declare a loop to visit all elements of the vectors\n",
        "  for i in range(n):\n",
        "\n",
        "    # update result with the multiplication of the 2 vectors\n",
        "    result += u[i] * v[i]\n",
        "\n",
        "  # declare return the result of the function dot product\n",
        "  return result"
      ],
      "metadata": {
        "id": "K-_EvMVc77-S"
      },
      "execution_count": 106,
      "outputs": []
    },
    {
      "cell_type": "code",
      "source": [
        "# test the function dot product\n",
        "vector_vector_multiplication(u, v)"
      ],
      "metadata": {
        "colab": {
          "base_uri": "https://localhost:8080/"
        },
        "id": "Cn_4dSIlPAl1",
        "outputId": "f5c3ea33-2656-4022-a318-79f2a6ba8682"
      },
      "execution_count": 107,
      "outputs": [
        {
          "output_type": "execute_result",
          "data": {
            "text/plain": [
              "14.0"
            ]
          },
          "metadata": {},
          "execution_count": 107
        }
      ]
    },
    {
      "cell_type": "code",
      "source": [
        "# numpy has a function does the dot product\n",
        "u.dot(v)"
      ],
      "metadata": {
        "colab": {
          "base_uri": "https://localhost:8080/"
        },
        "id": "Kkflw31oPOm-",
        "outputId": "ee14a547-cc8d-408f-9cd1-ad13b69d4c25"
      },
      "execution_count": 108,
      "outputs": [
        {
          "output_type": "execute_result",
          "data": {
            "text/plain": [
              "14"
            ]
          },
          "metadata": {},
          "execution_count": 108
        }
      ]
    },
    {
      "cell_type": "code",
      "source": [],
      "metadata": {
        "id": "V-uInNNFQEe8"
      },
      "execution_count": null,
      "outputs": []
    }
  ]
}