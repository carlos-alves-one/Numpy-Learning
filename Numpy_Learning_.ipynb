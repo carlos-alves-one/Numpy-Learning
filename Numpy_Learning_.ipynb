{
  "nbformat": 4,
  "nbformat_minor": 0,
  "metadata": {
    "colab": {
      "name": " Numpy-Learning .ipynb",
      "provenance": [],
      "collapsed_sections": [],
      "authorship_tag": "ABX9TyPPLkwVgPPMG14WoVaOQsKV",
      "include_colab_link": true
    },
    "kernelspec": {
      "name": "python3",
      "display_name": "Python 3"
    },
    "language_info": {
      "name": "python"
    }
  },
  "cells": [
    {
      "cell_type": "markdown",
      "metadata": {
        "id": "view-in-github",
        "colab_type": "text"
      },
      "source": [
        "<a href=\"https://colab.research.google.com/github/carlos-alves-one/Numpy-Learning/blob/main/Numpy_Learning_.ipynb\" target=\"_parent\"><img src=\"https://colab.research.google.com/assets/colab-badge.svg\" alt=\"Open In Colab\"/></a>"
      ]
    },
    {
      "cell_type": "markdown",
      "source": [
        "## Goldsmiths University of London\n",
        "**Author....: Carlos Manuel de Oliveira Alves**<br>\n",
        "**Student..: cdeol003**<br>\n",
        "**Created..: 23/08/2022**"
      ],
      "metadata": {
        "id": "oaiU4WH33DGX"
      }
    },
    {
      "cell_type": "code",
      "execution_count": 2,
      "metadata": {
        "id": "ZZ9acF2_29T0"
      },
      "outputs": [],
      "source": [
        "# import numpy library for linear algebra\n",
        "import numpy as np"
      ]
    },
    {
      "cell_type": "code",
      "source": [
        "# create an array with function zeros\n",
        "np.zeros(10)"
      ],
      "metadata": {
        "colab": {
          "base_uri": "https://localhost:8080/"
        },
        "id": "6Y-zlvmv4mpQ",
        "outputId": "41ca33f9-3f11-4357-de3f-1b42c2ee6e92"
      },
      "execution_count": 3,
      "outputs": [
        {
          "output_type": "execute_result",
          "data": {
            "text/plain": [
              "array([0., 0., 0., 0., 0., 0., 0., 0., 0., 0.])"
            ]
          },
          "metadata": {},
          "execution_count": 3
        }
      ]
    },
    {
      "cell_type": "code",
      "source": [
        "# create an array with function ones\n",
        "np.ones(10)"
      ],
      "metadata": {
        "colab": {
          "base_uri": "https://localhost:8080/"
        },
        "id": "3VDzyP1G43yc",
        "outputId": "2fa39db8-4407-4f43-b539-0c7c7e83de31"
      },
      "execution_count": 4,
      "outputs": [
        {
          "output_type": "execute_result",
          "data": {
            "text/plain": [
              "array([1., 1., 1., 1., 1., 1., 1., 1., 1., 1.])"
            ]
          },
          "metadata": {},
          "execution_count": 4
        }
      ]
    },
    {
      "cell_type": "code",
      "source": [
        "# create an array with function full\n",
        "np.full(10, 2.5)"
      ],
      "metadata": {
        "colab": {
          "base_uri": "https://localhost:8080/"
        },
        "id": "YWWjnftv5Oz2",
        "outputId": "8a61b59f-0f38-4eb5-aaa3-41407be230ed"
      },
      "execution_count": 5,
      "outputs": [
        {
          "output_type": "execute_result",
          "data": {
            "text/plain": [
              "array([2.5, 2.5, 2.5, 2.5, 2.5, 2.5, 2.5, 2.5, 2.5, 2.5])"
            ]
          },
          "metadata": {},
          "execution_count": 5
        }
      ]
    },
    {
      "cell_type": "code",
      "source": [
        "# create an array with a list with numbers\n",
        "a = np.array([1,2,3,5,7,12])\n",
        "a"
      ],
      "metadata": {
        "colab": {
          "base_uri": "https://localhost:8080/"
        },
        "id": "zGWeYmek5lu8",
        "outputId": "2a25e075-c049-49ff-b0bb-2a9d0db7904f"
      },
      "execution_count": 6,
      "outputs": [
        {
          "output_type": "execute_result",
          "data": {
            "text/plain": [
              "array([ 1,  2,  3,  5,  7, 12])"
            ]
          },
          "metadata": {},
          "execution_count": 6
        }
      ]
    },
    {
      "cell_type": "code",
      "source": [
        "# access a specific element in the array\n",
        "a[2]"
      ],
      "metadata": {
        "colab": {
          "base_uri": "https://localhost:8080/"
        },
        "id": "y9ShPYYg6RrH",
        "outputId": "e6b53b4c-8a73-4de8-ac32-6962d525a9ca"
      },
      "execution_count": 7,
      "outputs": [
        {
          "output_type": "execute_result",
          "data": {
            "text/plain": [
              "3"
            ]
          },
          "metadata": {},
          "execution_count": 7
        }
      ]
    },
    {
      "cell_type": "code",
      "source": [
        "# replace the value of a specific element in the array\n",
        "a[2] = 10\n",
        "a"
      ],
      "metadata": {
        "colab": {
          "base_uri": "https://localhost:8080/"
        },
        "id": "r86WeKgm6wkJ",
        "outputId": "8f7bb786-7a6e-4b11-cf59-05de447b0e03"
      },
      "execution_count": 8,
      "outputs": [
        {
          "output_type": "execute_result",
          "data": {
            "text/plain": [
              "array([ 1,  2, 10,  5,  7, 12])"
            ]
          },
          "metadata": {},
          "execution_count": 8
        }
      ]
    },
    {
      "cell_type": "code",
      "source": [
        "# create an array using the function range\n",
        "np.arange(10)"
      ],
      "metadata": {
        "colab": {
          "base_uri": "https://localhost:8080/"
        },
        "id": "QTL_GeZB8cWB",
        "outputId": "12c09fd2-c49f-405e-b239-73723a93e1cd"
      },
      "execution_count": 9,
      "outputs": [
        {
          "output_type": "execute_result",
          "data": {
            "text/plain": [
              "array([0, 1, 2, 3, 4, 5, 6, 7, 8, 9])"
            ]
          },
          "metadata": {},
          "execution_count": 9
        }
      ]
    },
    {
      "cell_type": "code",
      "source": [
        "# create an array using the function range but start at a specific number\n",
        "np.arange(3, 10)"
      ],
      "metadata": {
        "colab": {
          "base_uri": "https://localhost:8080/"
        },
        "id": "D65o1tWG9OZJ",
        "outputId": "e5e836e0-155c-4ef9-dcd8-1f64896ff76a"
      },
      "execution_count": 10,
      "outputs": [
        {
          "output_type": "execute_result",
          "data": {
            "text/plain": [
              "array([3, 4, 5, 6, 7, 8, 9])"
            ]
          },
          "metadata": {},
          "execution_count": 10
        }
      ]
    },
    {
      "cell_type": "code",
      "source": [
        "# create an array using the function linspace\n",
        "# create an array with 11 elements and with numbers between 0 and 1\n",
        "np.linspace(0, 1, 11)"
      ],
      "metadata": {
        "colab": {
          "base_uri": "https://localhost:8080/"
        },
        "id": "gUAT7pdS9pnq",
        "outputId": "2d90e397-0739-42de-d898-c27508f4df9d"
      },
      "execution_count": 11,
      "outputs": [
        {
          "output_type": "execute_result",
          "data": {
            "text/plain": [
              "array([0. , 0.1, 0.2, 0.3, 0.4, 0.5, 0.6, 0.7, 0.8, 0.9, 1. ])"
            ]
          },
          "metadata": {},
          "execution_count": 11
        }
      ]
    },
    {
      "cell_type": "code",
      "source": [
        "# create a multi-dimensional array\n",
        "# an array with 5 rows and 2 columns\n",
        "np.zeros((5,2))"
      ],
      "metadata": {
        "colab": {
          "base_uri": "https://localhost:8080/"
        },
        "id": "lmz00GbK-b9P",
        "outputId": "0d5cbc55-f668-41e4-971d-64780b06c599"
      },
      "execution_count": 12,
      "outputs": [
        {
          "output_type": "execute_result",
          "data": {
            "text/plain": [
              "array([[0., 0.],\n",
              "       [0., 0.],\n",
              "       [0., 0.],\n",
              "       [0., 0.],\n",
              "       [0., 0.]])"
            ]
          },
          "metadata": {},
          "execution_count": 12
        }
      ]
    },
    {
      "cell_type": "code",
      "source": [
        "# create a multi-dimensional array with a list of numbers\n",
        "n = np.array([\n",
        "    [1,2,3],\n",
        "    [4,5,6],\n",
        "    [7,8,9]\n",
        "])\n",
        "n"
      ],
      "metadata": {
        "colab": {
          "base_uri": "https://localhost:8080/"
        },
        "id": "5a-eydrT_XfB",
        "outputId": "6f80d962-7d9e-4a5a-91db-292adb28cfb1"
      },
      "execution_count": 13,
      "outputs": [
        {
          "output_type": "execute_result",
          "data": {
            "text/plain": [
              "array([[1, 2, 3],\n",
              "       [4, 5, 6],\n",
              "       [7, 8, 9]])"
            ]
          },
          "metadata": {},
          "execution_count": 13
        }
      ]
    },
    {
      "cell_type": "code",
      "source": [
        "# access to an element in a multi-dimensional array\n",
        "n[0, 1]"
      ],
      "metadata": {
        "colab": {
          "base_uri": "https://localhost:8080/"
        },
        "id": "CQ-NV7LJAHCy",
        "outputId": "fa7a928c-4f65-4522-bfd8-40d538cd22fc"
      },
      "execution_count": 14,
      "outputs": [
        {
          "output_type": "execute_result",
          "data": {
            "text/plain": [
              "2"
            ]
          },
          "metadata": {},
          "execution_count": 14
        }
      ]
    },
    {
      "cell_type": "code",
      "source": [
        "# replace the value of a specific element in a multi-dimensional array\n",
        "n[ 0, 1] = 20\n",
        "n"
      ],
      "metadata": {
        "colab": {
          "base_uri": "https://localhost:8080/"
        },
        "id": "L-fQW2D-BEHN",
        "outputId": "767ef218-8ac0-47bd-a6d3-8a1c816f7c2c"
      },
      "execution_count": 15,
      "outputs": [
        {
          "output_type": "execute_result",
          "data": {
            "text/plain": [
              "array([[ 1, 20,  3],\n",
              "       [ 4,  5,  6],\n",
              "       [ 7,  8,  9]])"
            ]
          },
          "metadata": {},
          "execution_count": 15
        }
      ]
    },
    {
      "cell_type": "code",
      "source": [
        "# access the row of a multi-dimensional array\n",
        "n[0]"
      ],
      "metadata": {
        "colab": {
          "base_uri": "https://localhost:8080/"
        },
        "id": "JWb7ajy4B39a",
        "outputId": "768277b3-b56b-4183-99a6-b7df38770fbf"
      },
      "execution_count": 16,
      "outputs": [
        {
          "output_type": "execute_result",
          "data": {
            "text/plain": [
              "array([ 1, 20,  3])"
            ]
          },
          "metadata": {},
          "execution_count": 16
        }
      ]
    },
    {
      "cell_type": "code",
      "source": [
        "# rewrite the entire row of a multi-dimensional array\n",
        "n[2] = [1,1,1]\n",
        "n"
      ],
      "metadata": {
        "colab": {
          "base_uri": "https://localhost:8080/"
        },
        "id": "4O1NMAUOCSv1",
        "outputId": "96232268-2cf9-40ba-92c8-73d8d3d18950"
      },
      "execution_count": 17,
      "outputs": [
        {
          "output_type": "execute_result",
          "data": {
            "text/plain": [
              "array([[ 1, 20,  3],\n",
              "       [ 4,  5,  6],\n",
              "       [ 1,  1,  1]])"
            ]
          },
          "metadata": {},
          "execution_count": 17
        }
      ]
    },
    {
      "cell_type": "code",
      "source": [
        "# access a specific column in a multi-dimensional array\n",
        "n[:, 1] # to access the second column"
      ],
      "metadata": {
        "colab": {
          "base_uri": "https://localhost:8080/"
        },
        "id": "xftde14bTLun",
        "outputId": "f1c8b75c-5ae7-4187-b894-1aae73061d93"
      },
      "execution_count": 18,
      "outputs": [
        {
          "output_type": "execute_result",
          "data": {
            "text/plain": [
              "array([20,  5,  1])"
            ]
          },
          "metadata": {},
          "execution_count": 18
        }
      ]
    },
    {
      "cell_type": "code",
      "source": [
        "# return all the rows of the multi-dimensionl array\n",
        "n[:]"
      ],
      "metadata": {
        "colab": {
          "base_uri": "https://localhost:8080/"
        },
        "id": "iqlKKrHDYTPn",
        "outputId": "a0e2f269-4326-4819-a5a0-afa609653536"
      },
      "execution_count": 19,
      "outputs": [
        {
          "output_type": "execute_result",
          "data": {
            "text/plain": [
              "array([[ 1, 20,  3],\n",
              "       [ 4,  5,  6],\n",
              "       [ 1,  1,  1]])"
            ]
          },
          "metadata": {},
          "execution_count": 19
        }
      ]
    },
    {
      "cell_type": "code",
      "source": [
        "# assign new values to a specific columns in multi-dimensionl array\n",
        "n[:, 2] = [0, 1, 2]\n",
        "n"
      ],
      "metadata": {
        "colab": {
          "base_uri": "https://localhost:8080/"
        },
        "id": "DokPdrLZYvEB",
        "outputId": "1f6bc647-0d87-4052-fa03-7eefb6b49cb4"
      },
      "execution_count": 20,
      "outputs": [
        {
          "output_type": "execute_result",
          "data": {
            "text/plain": [
              "array([[ 1, 20,  0],\n",
              "       [ 4,  5,  1],\n",
              "       [ 1,  1,  2]])"
            ]
          },
          "metadata": {},
          "execution_count": 20
        }
      ]
    },
    {
      "cell_type": "code",
      "source": [
        "# generate randomly two dimensional array\n",
        "# the numbers are random between zero and one\n",
        "# using the seed function to generate the same random numbers\n",
        "np.random.seed(2)\n",
        "np.random.rand(5, 2) # 5 rows and 2 columns"
      ],
      "metadata": {
        "colab": {
          "base_uri": "https://localhost:8080/"
        },
        "id": "eOKwDZqaZPYG",
        "outputId": "772f9fca-e81c-469e-e82b-05bcbf6a3f93"
      },
      "execution_count": 21,
      "outputs": [
        {
          "output_type": "execute_result",
          "data": {
            "text/plain": [
              "array([[0.4359949 , 0.02592623],\n",
              "       [0.54966248, 0.43532239],\n",
              "       [0.4203678 , 0.33033482],\n",
              "       [0.20464863, 0.61927097],\n",
              "       [0.29965467, 0.26682728]])"
            ]
          },
          "metadata": {},
          "execution_count": 21
        }
      ]
    },
    {
      "cell_type": "code",
      "source": [
        "# use the standard normal distribution\n",
        "np.random.seed(2)\n",
        "np.random.randn(5, 2)"
      ],
      "metadata": {
        "colab": {
          "base_uri": "https://localhost:8080/"
        },
        "id": "yTPLep5eaFZV",
        "outputId": "3d282b56-7c6d-4c85-86ff-2aae447d0638"
      },
      "execution_count": 22,
      "outputs": [
        {
          "output_type": "execute_result",
          "data": {
            "text/plain": [
              "array([[-0.41675785, -0.05626683],\n",
              "       [-2.1361961 ,  1.64027081],\n",
              "       [-1.79343559, -0.84174737],\n",
              "       [ 0.50288142, -1.24528809],\n",
              "       [-1.05795222, -0.90900761]])"
            ]
          },
          "metadata": {},
          "execution_count": 22
        }
      ]
    },
    {
      "cell_type": "code",
      "source": [
        "# generate random numbers between 0 and 100\n",
        "np.random.seed(2)\n",
        "100 * np.random.rand(5, 2)"
      ],
      "metadata": {
        "colab": {
          "base_uri": "https://localhost:8080/"
        },
        "id": "twhWpIh2dA99",
        "outputId": "6774cb28-7f03-4216-cf2c-dee58284268e"
      },
      "execution_count": 23,
      "outputs": [
        {
          "output_type": "execute_result",
          "data": {
            "text/plain": [
              "array([[43.59949021,  2.59262318],\n",
              "       [54.96624779, 43.53223926],\n",
              "       [42.03678021, 33.0334821 ],\n",
              "       [20.4648634 , 61.92709664],\n",
              "       [29.96546737, 26.68272751]])"
            ]
          },
          "metadata": {},
          "execution_count": 23
        }
      ]
    },
    {
      "cell_type": "code",
      "source": [
        "# generate random integers between 0 and 99\n",
        "np.random.seed(2)\n",
        "np.random.randint(low=0, high=100, size=(5,2))"
      ],
      "metadata": {
        "colab": {
          "base_uri": "https://localhost:8080/"
        },
        "id": "fA-wIC1-dnUN",
        "outputId": "829f1db1-c778-481a-ff87-513c4add56dc"
      },
      "execution_count": 24,
      "outputs": [
        {
          "output_type": "execute_result",
          "data": {
            "text/plain": [
              "array([[40, 15],\n",
              "       [72, 22],\n",
              "       [43, 82],\n",
              "       [75,  7],\n",
              "       [34, 49]])"
            ]
          },
          "metadata": {},
          "execution_count": 24
        }
      ]
    },
    {
      "cell_type": "markdown",
      "source": [
        "**Element-Wise Operations**"
      ],
      "metadata": {
        "id": "D-tCPIYPv_6e"
      }
    },
    {
      "cell_type": "code",
      "source": [
        "# create an array using the arange function\n",
        "a = np.arange(5)\n",
        "a"
      ],
      "metadata": {
        "id": "yI4-LONMwPg6",
        "colab": {
          "base_uri": "https://localhost:8080/"
        },
        "outputId": "94354db5-3c65-4a6c-d077-dfdba2b64c54"
      },
      "execution_count": 25,
      "outputs": [
        {
          "output_type": "execute_result",
          "data": {
            "text/plain": [
              "array([0, 1, 2, 3, 4])"
            ]
          },
          "metadata": {},
          "execution_count": 25
        }
      ]
    },
    {
      "cell_type": "code",
      "source": [
        "# use element-wise operations addition with array\n",
        "a + 1"
      ],
      "metadata": {
        "colab": {
          "base_uri": "https://localhost:8080/"
        },
        "id": "eHKTwlHdUIgD",
        "outputId": "13dbf763-0b56-4493-e019-f0a48a98ce9b"
      },
      "execution_count": 26,
      "outputs": [
        {
          "output_type": "execute_result",
          "data": {
            "text/plain": [
              "array([1, 2, 3, 4, 5])"
            ]
          },
          "metadata": {},
          "execution_count": 26
        }
      ]
    },
    {
      "cell_type": "code",
      "source": [
        "# use element-wise operations multiplication with array\n",
        "a * 2"
      ],
      "metadata": {
        "colab": {
          "base_uri": "https://localhost:8080/"
        },
        "id": "dn8jNCEsUpXb",
        "outputId": "38438ae4-b009-4373-8f9b-54b8010bfa0b"
      },
      "execution_count": 27,
      "outputs": [
        {
          "output_type": "execute_result",
          "data": {
            "text/plain": [
              "array([0, 2, 4, 6, 8])"
            ]
          },
          "metadata": {},
          "execution_count": 27
        }
      ]
    },
    {
      "cell_type": "code",
      "source": [
        "# more complex element-wise operations\n",
        "b = (10 + (a *2)) ** 2 / 100\n",
        "b"
      ],
      "metadata": {
        "colab": {
          "base_uri": "https://localhost:8080/"
        },
        "id": "NlsPiuC_VDv_",
        "outputId": "2ff2b1cb-4c95-48b8-df16-954e8d0cdbf7"
      },
      "execution_count": 28,
      "outputs": [
        {
          "output_type": "execute_result",
          "data": {
            "text/plain": [
              "array([1.  , 1.44, 1.96, 2.56, 3.24])"
            ]
          },
          "metadata": {},
          "execution_count": 28
        }
      ]
    },
    {
      "cell_type": "code",
      "source": [
        "# combine two arrays\n",
        "a + b"
      ],
      "metadata": {
        "colab": {
          "base_uri": "https://localhost:8080/"
        },
        "id": "4UuXRsV8VbKB",
        "outputId": "00e938d2-b271-49bc-cb71-242dff4c985c"
      },
      "execution_count": 29,
      "outputs": [
        {
          "output_type": "execute_result",
          "data": {
            "text/plain": [
              "array([1.  , 2.44, 3.96, 5.56, 7.24])"
            ]
          },
          "metadata": {},
          "execution_count": 29
        }
      ]
    },
    {
      "cell_type": "code",
      "source": [
        "# combine two arrays more complex\n",
        "a / b + 10"
      ],
      "metadata": {
        "colab": {
          "base_uri": "https://localhost:8080/"
        },
        "id": "SKjrMp5FV8mA",
        "outputId": "4cb24d2d-be47-489a-94aa-06378d17735b"
      },
      "execution_count": 30,
      "outputs": [
        {
          "output_type": "execute_result",
          "data": {
            "text/plain": [
              "array([10.        , 10.69444444, 11.02040816, 11.171875  , 11.2345679 ])"
            ]
          },
          "metadata": {},
          "execution_count": 30
        }
      ]
    },
    {
      "cell_type": "markdown",
      "source": [
        "**Comparison Operations**"
      ],
      "metadata": {
        "id": "K5_hWCeTWsKp"
      }
    },
    {
      "cell_type": "code",
      "source": [
        " a"
      ],
      "metadata": {
        "colab": {
          "base_uri": "https://localhost:8080/"
        },
        "id": "7uJ5zFI2WvqW",
        "outputId": "cee736da-054c-417b-e40b-57987e39ef4b"
      },
      "execution_count": 31,
      "outputs": [
        {
          "output_type": "execute_result",
          "data": {
            "text/plain": [
              "array([0, 1, 2, 3, 4])"
            ]
          },
          "metadata": {},
          "execution_count": 31
        }
      ]
    },
    {
      "cell_type": "code",
      "source": [
        "a >= 2"
      ],
      "metadata": {
        "colab": {
          "base_uri": "https://localhost:8080/"
        },
        "id": "rHR6Wn1iW2O-",
        "outputId": "4014183c-50d8-4cb8-85a8-bcbf502d7d98"
      },
      "execution_count": 32,
      "outputs": [
        {
          "output_type": "execute_result",
          "data": {
            "text/plain": [
              "array([False, False,  True,  True,  True])"
            ]
          },
          "metadata": {},
          "execution_count": 32
        }
      ]
    },
    {
      "cell_type": "code",
      "source": [
        "a > b"
      ],
      "metadata": {
        "colab": {
          "base_uri": "https://localhost:8080/"
        },
        "id": "Tf0gJ2HpW40t",
        "outputId": "33f23a56-d577-4f68-efb0-ea8884577604"
      },
      "execution_count": 33,
      "outputs": [
        {
          "output_type": "execute_result",
          "data": {
            "text/plain": [
              "array([False, False,  True,  True,  True])"
            ]
          },
          "metadata": {},
          "execution_count": 33
        }
      ]
    },
    {
      "cell_type": "code",
      "source": [
        "# create an array with elements for which the condition is true\n",
        "a[a > b]"
      ],
      "metadata": {
        "colab": {
          "base_uri": "https://localhost:8080/"
        },
        "id": "XW8r0vVlX3dp",
        "outputId": "c0f00678-c26a-4d9c-87c2-9e123e8febb5"
      },
      "execution_count": 34,
      "outputs": [
        {
          "output_type": "execute_result",
          "data": {
            "text/plain": [
              "array([2, 3, 4])"
            ]
          },
          "metadata": {},
          "execution_count": 34
        }
      ]
    },
    {
      "cell_type": "markdown",
      "source": [
        "**Summarizing Operations**"
      ],
      "metadata": {
        "id": "dP4C6WAOZzqE"
      }
    },
    {
      "cell_type": "code",
      "source": [
        "a"
      ],
      "metadata": {
        "colab": {
          "base_uri": "https://localhost:8080/"
        },
        "id": "K4aHLXjjZ5dQ",
        "outputId": "2149a630-a6c0-49b3-f8a8-075daa9d4645"
      },
      "execution_count": 35,
      "outputs": [
        {
          "output_type": "execute_result",
          "data": {
            "text/plain": [
              "array([0, 1, 2, 3, 4])"
            ]
          },
          "metadata": {},
          "execution_count": 35
        }
      ]
    },
    {
      "cell_type": "code",
      "source": [
        "# use the function min that return the smallest number in the array\n",
        "a.min()"
      ],
      "metadata": {
        "colab": {
          "base_uri": "https://localhost:8080/"
        },
        "id": "G42HfhyBZ9e0",
        "outputId": "7ca6ba3d-b836-46dd-a13e-11ccc2950ba7"
      },
      "execution_count": 36,
      "outputs": [
        {
          "output_type": "execute_result",
          "data": {
            "text/plain": [
              "0"
            ]
          },
          "metadata": {},
          "execution_count": 36
        }
      ]
    },
    {
      "cell_type": "code",
      "source": [
        "# use the function max that return the maximal number in the array\n",
        "a.max()"
      ],
      "metadata": {
        "colab": {
          "base_uri": "https://localhost:8080/"
        },
        "id": "dXboZFYAaN7u",
        "outputId": "630223b6-a310-4275-b1d6-4522bc402278"
      },
      "execution_count": 37,
      "outputs": [
        {
          "output_type": "execute_result",
          "data": {
            "text/plain": [
              "4"
            ]
          },
          "metadata": {},
          "execution_count": 37
        }
      ]
    },
    {
      "cell_type": "code",
      "source": [
        "# use the function sum that computes the sum of all elements in the array\n",
        "a.sum()"
      ],
      "metadata": {
        "colab": {
          "base_uri": "https://localhost:8080/"
        },
        "id": "5-kpErztaigA",
        "outputId": "8de9a5e7-a7b3-4962-a600-3f4f5710708a"
      },
      "execution_count": 38,
      "outputs": [
        {
          "output_type": "execute_result",
          "data": {
            "text/plain": [
              "10"
            ]
          },
          "metadata": {},
          "execution_count": 38
        }
      ]
    },
    {
      "cell_type": "code",
      "source": [
        "# use the function mean that conmputes the average number in tbe array\n",
        "a.mean()"
      ],
      "metadata": {
        "colab": {
          "base_uri": "https://localhost:8080/"
        },
        "id": "LoWCUrYaa5vG",
        "outputId": "d9ef2675-4d95-4cf8-eae1-eb2ba884b8b9"
      },
      "execution_count": 39,
      "outputs": [
        {
          "output_type": "execute_result",
          "data": {
            "text/plain": [
              "2.0"
            ]
          },
          "metadata": {},
          "execution_count": 39
        }
      ]
    },
    {
      "cell_type": "code",
      "source": [
        "# use the standard deviation function\n",
        "a.std()"
      ],
      "metadata": {
        "colab": {
          "base_uri": "https://localhost:8080/"
        },
        "id": "W4evy3SZbQzL",
        "outputId": "bb5e2be7-790c-41de-be5c-a12d8755f2ff"
      },
      "execution_count": 40,
      "outputs": [
        {
          "output_type": "execute_result",
          "data": {
            "text/plain": [
              "1.4142135623730951"
            ]
          },
          "metadata": {},
          "execution_count": 40
        }
      ]
    },
    {
      "cell_type": "code",
      "source": [
        "n"
      ],
      "metadata": {
        "colab": {
          "base_uri": "https://localhost:8080/"
        },
        "id": "sOpIs9tUbjDB",
        "outputId": "25ddc40b-d321-47f7-9f74-133d1162e302"
      },
      "execution_count": 41,
      "outputs": [
        {
          "output_type": "execute_result",
          "data": {
            "text/plain": [
              "array([[ 1, 20,  0],\n",
              "       [ 4,  5,  1],\n",
              "       [ 1,  1,  2]])"
            ]
          },
          "metadata": {},
          "execution_count": 41
        }
      ]
    },
    {
      "cell_type": "code",
      "source": [
        "n.sum()"
      ],
      "metadata": {
        "colab": {
          "base_uri": "https://localhost:8080/"
        },
        "id": "K2tG5nZCbx37",
        "outputId": "3e0f751e-bd14-4543-a7d1-330d811f8ce5"
      },
      "execution_count": 42,
      "outputs": [
        {
          "output_type": "execute_result",
          "data": {
            "text/plain": [
              "35"
            ]
          },
          "metadata": {},
          "execution_count": 42
        }
      ]
    },
    {
      "cell_type": "code",
      "source": [
        "n.min()"
      ],
      "metadata": {
        "colab": {
          "base_uri": "https://localhost:8080/"
        },
        "id": "OJkgFWapb39G",
        "outputId": "b2cfe17b-aedb-4229-c891-bcc3f23f5036"
      },
      "execution_count": 43,
      "outputs": [
        {
          "output_type": "execute_result",
          "data": {
            "text/plain": [
              "0"
            ]
          },
          "metadata": {},
          "execution_count": 43
        }
      ]
    },
    {
      "cell_type": "code",
      "source": [
        "n.max()"
      ],
      "metadata": {
        "colab": {
          "base_uri": "https://localhost:8080/"
        },
        "id": "a4CxSmfXb9iy",
        "outputId": "f7ec854e-5cbd-4263-9b30-91bc1d702c36"
      },
      "execution_count": 44,
      "outputs": [
        {
          "output_type": "execute_result",
          "data": {
            "text/plain": [
              "20"
            ]
          },
          "metadata": {},
          "execution_count": 44
        }
      ]
    },
    {
      "cell_type": "markdown",
      "source": [
        "**Vector Operations**"
      ],
      "metadata": {
        "id": "IZMKQrVOvg9x"
      }
    },
    {
      "cell_type": "code",
      "source": [
        "# create a row vector u\n",
        "u = np.array([2, 4, 5, 6])\n",
        "u"
      ],
      "metadata": {
        "colab": {
          "base_uri": "https://localhost:8080/"
        },
        "id": "4g80GQm0vsuZ",
        "outputId": "5d666e07-5016-408f-8ac6-2191a4d2953a"
      },
      "execution_count": 45,
      "outputs": [
        {
          "output_type": "execute_result",
          "data": {
            "text/plain": [
              "array([2, 4, 5, 6])"
            ]
          },
          "metadata": {},
          "execution_count": 45
        }
      ]
    },
    {
      "cell_type": "code",
      "source": [
        "# multiply a numpy array by two\n",
        "2 * u"
      ],
      "metadata": {
        "colab": {
          "base_uri": "https://localhost:8080/"
        },
        "id": "h5_59bL1wnsE",
        "outputId": "58f34930-05e7-4617-8645-52318a70bcd4"
      },
      "execution_count": 46,
      "outputs": [
        {
          "output_type": "execute_result",
          "data": {
            "text/plain": [
              "array([ 4,  8, 10, 12])"
            ]
          },
          "metadata": {},
          "execution_count": 46
        }
      ]
    },
    {
      "cell_type": "code",
      "source": [
        "# create a row vector v\n",
        "v = np.array([1, 0, 0, 2])\n",
        "v"
      ],
      "metadata": {
        "colab": {
          "base_uri": "https://localhost:8080/"
        },
        "id": "Dzdm26UQxHgk",
        "outputId": "6e153d7e-f45f-430b-de95-f9dbde1a4565"
      },
      "execution_count": 47,
      "outputs": [
        {
          "output_type": "execute_result",
          "data": {
            "text/plain": [
              "array([1, 0, 0, 2])"
            ]
          },
          "metadata": {},
          "execution_count": 47
        }
      ]
    },
    {
      "cell_type": "code",
      "source": [
        "# add two row vectors\n",
        "u + v"
      ],
      "metadata": {
        "colab": {
          "base_uri": "https://localhost:8080/"
        },
        "id": "uYBJTVN7xT4y",
        "outputId": "100f169d-b83a-4355-d8ef-80740c0df43f"
      },
      "execution_count": 48,
      "outputs": [
        {
          "output_type": "execute_result",
          "data": {
            "text/plain": [
              "array([3, 4, 5, 8])"
            ]
          },
          "metadata": {},
          "execution_count": 48
        }
      ]
    },
    {
      "cell_type": "markdown",
      "source": [
        "**Multiplication**"
      ],
      "metadata": {
        "id": "BEYAAAzo40lE"
      }
    },
    {
      "cell_type": "markdown",
      "source": [
        "**Vector-vector Multiplication (Dot Product or Inner Product)**"
      ],
      "metadata": {
        "id": "eLssl0vsx70K"
      }
    },
    {
      "cell_type": "code",
      "source": [
        "# steps of the multiplication:\n",
        "# 1. multiply each element of the vector\n",
        "# 2. sum all the multiplication results\n",
        "# we can multiply two vectors if they have the same shape\n",
        "# if we have a row and column vector we need to use the transpose operation\n",
        "# for one of the vector e.g. if we have a column vector end the other one\n",
        "# is a row vector we use the transpose operation for this vector\n",
        "# to convert from row vector to a column vector"
      ],
      "metadata": {
        "id": "gGhhnl-gyOrS"
      },
      "execution_count": 49,
      "outputs": []
    },
    {
      "cell_type": "code",
      "source": [
        "# create multi-dimensional array U\n",
        "U = np.array([\n",
        "    [2, 4, 5, 6],\n",
        "    [1, 2, 1, 2],\n",
        "    [3, 1, 2, 1],\n",
        "])\n",
        "\n",
        "U"
      ],
      "metadata": {
        "colab": {
          "base_uri": "https://localhost:8080/"
        },
        "id": "nYPbPg0K45NF",
        "outputId": "37679d6f-7211-4148-8c69-d71926bf70d8"
      },
      "execution_count": 50,
      "outputs": [
        {
          "output_type": "execute_result",
          "data": {
            "text/plain": [
              "array([[2, 4, 5, 6],\n",
              "       [1, 2, 1, 2],\n",
              "       [3, 1, 2, 1]])"
            ]
          },
          "metadata": {},
          "execution_count": 50
        }
      ]
    },
    {
      "cell_type": "code",
      "source": [
        "# create multi-dimensional array V\n",
        "V = np.array([\n",
        "    [1, 1, 2],\n",
        "    [0, 0.5, 1], \n",
        "    [0, 2, 1],\n",
        "    [2, 1, 0],\n",
        "])\n",
        "\n",
        "V"
      ],
      "metadata": {
        "colab": {
          "base_uri": "https://localhost:8080/"
        },
        "id": "GeI38coj6T_K",
        "outputId": "5fdcdb91-9ca9-4565-d423-65b764d42de4"
      },
      "execution_count": 51,
      "outputs": [
        {
          "output_type": "execute_result",
          "data": {
            "text/plain": [
              "array([[1. , 1. , 2. ],\n",
              "       [0. , 0.5, 1. ],\n",
              "       [0. , 2. , 1. ],\n",
              "       [2. , 1. , 0. ]])"
            ]
          },
          "metadata": {},
          "execution_count": 51
        }
      ]
    },
    {
      "cell_type": "code",
      "source": [
        "# declare a function that does the multiplication of two vectors\n",
        "def vector_vector_multiplication(u, v):\n",
        "  \n",
        "  # first we need to make sure the vectors as the same size\n",
        "  # use the assert statement known as assertion used to check data\n",
        "  assert u.shape[0] == v.shape[0]\n",
        "\n",
        "  # declare variable that store the size of the vector\n",
        "  n = u.shape[0]\n",
        "\n",
        "  # declare variable that store the result of the dot product\n",
        "  result = 0.0\n",
        "\n",
        "  # declare a loop to visit all elements of the vectors\n",
        "  for i in range(n):\n",
        "\n",
        "    # update result with the multiplication of the 2 vectors\n",
        "    result += u[i] * v[i]\n",
        "\n",
        "  # declare return the result of the function dot product\n",
        "  return result"
      ],
      "metadata": {
        "id": "K-_EvMVc77-S"
      },
      "execution_count": 52,
      "outputs": []
    },
    {
      "cell_type": "code",
      "source": [
        "# test the function dot product\n",
        "vector_vector_multiplication(u, v)"
      ],
      "metadata": {
        "colab": {
          "base_uri": "https://localhost:8080/"
        },
        "id": "Cn_4dSIlPAl1",
        "outputId": "f5c44841-ec22-432f-f375-ede10916a07a"
      },
      "execution_count": 53,
      "outputs": [
        {
          "output_type": "execute_result",
          "data": {
            "text/plain": [
              "14.0"
            ]
          },
          "metadata": {},
          "execution_count": 53
        }
      ]
    },
    {
      "cell_type": "code",
      "source": [
        "# numpy has a function does the dot product\n",
        "u.dot(v)"
      ],
      "metadata": {
        "colab": {
          "base_uri": "https://localhost:8080/"
        },
        "id": "Kkflw31oPOm-",
        "outputId": "a87165cc-3fe5-4218-98d0-f19f852e0327"
      },
      "execution_count": 54,
      "outputs": [
        {
          "output_type": "execute_result",
          "data": {
            "text/plain": [
              "14"
            ]
          },
          "metadata": {},
          "execution_count": 54
        }
      ]
    },
    {
      "cell_type": "markdown",
      "source": [
        "**Matrix-vector Multiplication**"
      ],
      "metadata": {
        "id": "fFPMhTsCQS5M"
      }
    },
    {
      "cell_type": "code",
      "source": [
        "# declare a function that does the multiplication of a matrix and a column vector\n",
        "def matrix_vector_multiplication(U, v): # use capital U to represent a matrix\n",
        "\n",
        "  # use the assert statement and because we have a matrix\n",
        "  # we are only interested in the number of columns\n",
        "  assert U.shape[1] == v.shape[0]\n",
        "\n",
        "  # declare variable that stores the number of rows of the matrix\n",
        "  num_rows = U.shape[0]\n",
        "\n",
        "  # declare variable stores the result of the multiplication\n",
        "  # use the function zeros to initialize it with zeros\n",
        "  result = np.zeros(num_rows)\n",
        "\n",
        "  # declare loop to go through each row of the matrix\n",
        "  for i in range(num_rows):\n",
        "\n",
        "    # update the result using the function vectors multiplication\n",
        "    result[i] = vector_vector_multiplication(U[i], v)\n",
        "\n",
        "  # declare return the result of the function matrix and vector multiplication\n",
        "  return result"
      ],
      "metadata": {
        "id": "xJNQ3pchQcdW"
      },
      "execution_count": 55,
      "outputs": []
    },
    {
      "cell_type": "code",
      "source": [
        "# test the function matrix vector multiplication\n",
        "matrix_vector_multiplication(U, v)"
      ],
      "metadata": {
        "colab": {
          "base_uri": "https://localhost:8080/"
        },
        "id": "F57ZLLg3dyo1",
        "outputId": "ff26d568-2447-49f3-febb-5136d3faf9ec"
      },
      "execution_count": 56,
      "outputs": [
        {
          "output_type": "execute_result",
          "data": {
            "text/plain": [
              "array([14.,  5.,  5.])"
            ]
          },
          "metadata": {},
          "execution_count": 56
        }
      ]
    },
    {
      "cell_type": "code",
      "source": [
        "# numpy has a function does the matrix vector multiplication\n",
        "U.dot(v)"
      ],
      "metadata": {
        "colab": {
          "base_uri": "https://localhost:8080/"
        },
        "id": "iiM-Viwqd_j8",
        "outputId": "c7689b1f-047c-4f4d-c41c-81f502c234d1"
      },
      "execution_count": 57,
      "outputs": [
        {
          "output_type": "execute_result",
          "data": {
            "text/plain": [
              "array([14,  5,  5])"
            ]
          },
          "metadata": {},
          "execution_count": 57
        }
      ]
    },
    {
      "cell_type": "markdown",
      "source": [
        "**Matrix-matrix Multiplication**"
      ],
      "metadata": {
        "id": "5p80AALyslzs"
      }
    },
    {
      "cell_type": "code",
      "source": [
        "V = np.array([\n",
        "    [1, 1, 2],\n",
        "    [0, 0.5, 1], \n",
        "    [0, 2, 1],\n",
        "    [2, 1, 0],\n",
        "])"
      ],
      "metadata": {
        "id": "SeN-pQaVsq_I"
      },
      "execution_count": 58,
      "outputs": []
    },
    {
      "cell_type": "code",
      "source": [
        "# declare a function that does the multiplication of two matrices\n",
        "def matrix_matrix_multiplication(U, V): # use capital U and V to represent a matrix\n",
        "\n",
        "  # use the assert statement to make sure that the dimensions of the matrices match\n",
        "  assert U.shape[1] == V.shape[0]\n",
        "\n",
        "  # declare variables to store the size of the matrix for rows and columns\n",
        "  num_rows = U.shape[0]\n",
        "  num_cols = V.shape[1]\n",
        "\n",
        "  # create a new matrix called result and initialize it with zeros\n",
        "  result = np.zeros((num_rows, num_cols))\n",
        "\n",
        "  # create loop to go through the columns of the matrix\n",
        "  for i in range(num_cols):\n",
        "\n",
        "    # declare variable to store the rows of the matrix\n",
        "    vi = V[:, i]\n",
        "\n",
        "    # store the result of the multiplication of matrix and vector\n",
        "    Uvi = matrix_vector_multiplication(U, vi)\n",
        "\n",
        "    # update column of the matrix result\n",
        "    result[:, i] = Uvi\n",
        "\n",
        "  # declare return the result of the function multiplication of two matrices\n",
        "  return result"
      ],
      "metadata": {
        "id": "CCrpIYxItIVa"
      },
      "execution_count": 59,
      "outputs": []
    },
    {
      "cell_type": "code",
      "source": [
        "# test the function matrices multiplication\n",
        "matrix_matrix_multiplication(U, V)"
      ],
      "metadata": {
        "colab": {
          "base_uri": "https://localhost:8080/"
        },
        "id": "HGWlZcWT1sYu",
        "outputId": "ca663f24-02ff-4cd6-f4e0-59a3e9f99474"
      },
      "execution_count": 60,
      "outputs": [
        {
          "output_type": "execute_result",
          "data": {
            "text/plain": [
              "array([[14. , 20. , 13. ],\n",
              "       [ 5. ,  6. ,  5. ],\n",
              "       [ 5. ,  8.5,  9. ]])"
            ]
          },
          "metadata": {},
          "execution_count": 60
        }
      ]
    },
    {
      "cell_type": "code",
      "source": [
        "# numpy has a function does the matrices multiplication\n",
        "U.dot(V)"
      ],
      "metadata": {
        "colab": {
          "base_uri": "https://localhost:8080/"
        },
        "id": "9te2ZIPP2Ptd",
        "outputId": "085e5c83-84cf-40e2-a996-97f62148c6f7"
      },
      "execution_count": 61,
      "outputs": [
        {
          "output_type": "execute_result",
          "data": {
            "text/plain": [
              "array([[14. , 20. , 13. ],\n",
              "       [ 5. ,  6. ,  5. ],\n",
              "       [ 5. ,  8.5,  9. ]])"
            ]
          },
          "metadata": {},
          "execution_count": 61
        }
      ]
    },
    {
      "cell_type": "markdown",
      "source": [
        "**Identity matrix**"
      ],
      "metadata": {
        "id": "2mhMxDYF2zcR"
      }
    },
    {
      "cell_type": "code",
      "source": [
        "# create identity matrix using the function eye\n",
        "I = np.eye(3)"
      ],
      "metadata": {
        "id": "jI_pAVhw24-6"
      },
      "execution_count": 65,
      "outputs": []
    },
    {
      "cell_type": "code",
      "source": [
        "V"
      ],
      "metadata": {
        "colab": {
          "base_uri": "https://localhost:8080/"
        },
        "id": "gS-ry836P3m_",
        "outputId": "53500343-946f-41ab-8507-f234a7e22ef9"
      },
      "execution_count": 66,
      "outputs": [
        {
          "output_type": "execute_result",
          "data": {
            "text/plain": [
              "array([[1. , 1. , 2. ],\n",
              "       [0. , 0.5, 1. ],\n",
              "       [0. , 2. , 1. ],\n",
              "       [2. , 1. , 0. ]])"
            ]
          },
          "metadata": {},
          "execution_count": 66
        }
      ]
    },
    {
      "cell_type": "code",
      "source": [
        "# use the dot product we get the matrix back\n",
        "V.dot(I)"
      ],
      "metadata": {
        "colab": {
          "base_uri": "https://localhost:8080/"
        },
        "id": "xpr3x65HOh1B",
        "outputId": "b7613b51-08fa-4c26-cd40-16e1605ce359"
      },
      "execution_count": 67,
      "outputs": [
        {
          "output_type": "execute_result",
          "data": {
            "text/plain": [
              "array([[1. , 1. , 2. ],\n",
              "       [0. , 0.5, 1. ],\n",
              "       [0. , 2. , 1. ],\n",
              "       [2. , 1. , 0. ]])"
            ]
          },
          "metadata": {},
          "execution_count": 67
        }
      ]
    },
    {
      "cell_type": "code",
      "source": [],
      "metadata": {
        "id": "Tz5xoMr2Pqf2"
      },
      "execution_count": null,
      "outputs": []
    }
  ]
}